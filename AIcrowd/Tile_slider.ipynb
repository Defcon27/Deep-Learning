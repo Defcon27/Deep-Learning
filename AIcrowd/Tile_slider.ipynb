{
  "nbformat": 4,
  "nbformat_minor": 0,
  "metadata": {
    "colab": {
      "name": "Tile_slider.ipynb",
      "provenance": [],
      "collapsed_sections": []
    },
    "kernelspec": {
      "name": "python3",
      "display_name": "Python 3"
    },
    "language_info": {
      "name": "python"
    },
    "widgets": {
      "application/vnd.jupyter.widget-state+json": {
        "a6fc46501b914e4db0ee1bec4274710d": {
          "model_module": "@jupyter-widgets/controls",
          "model_name": "HBoxModel",
          "state": {
            "_view_name": "HBoxView",
            "_dom_classes": [],
            "_model_name": "HBoxModel",
            "_view_module": "@jupyter-widgets/controls",
            "_model_module_version": "1.5.0",
            "_view_count": null,
            "_view_module_version": "1.5.0",
            "box_style": "",
            "layout": "IPY_MODEL_9225df633b1e48188cc8955aab088ef4",
            "_model_module": "@jupyter-widgets/controls",
            "children": [
              "IPY_MODEL_16094f858c9845e89d423826f24c41cb",
              "IPY_MODEL_52f48a068b924573952c77207a7f3793"
            ]
          }
        },
        "9225df633b1e48188cc8955aab088ef4": {
          "model_module": "@jupyter-widgets/base",
          "model_name": "LayoutModel",
          "state": {
            "_view_name": "LayoutView",
            "grid_template_rows": null,
            "right": null,
            "justify_content": null,
            "_view_module": "@jupyter-widgets/base",
            "overflow": null,
            "_model_module_version": "1.2.0",
            "_view_count": null,
            "flex_flow": null,
            "width": null,
            "min_width": null,
            "border": null,
            "align_items": null,
            "bottom": null,
            "_model_module": "@jupyter-widgets/base",
            "top": null,
            "grid_column": null,
            "overflow_y": null,
            "overflow_x": null,
            "grid_auto_flow": null,
            "grid_area": null,
            "grid_template_columns": null,
            "flex": null,
            "_model_name": "LayoutModel",
            "justify_items": null,
            "grid_row": null,
            "max_height": null,
            "align_content": null,
            "visibility": null,
            "align_self": null,
            "height": null,
            "min_height": null,
            "padding": null,
            "grid_auto_rows": null,
            "grid_gap": null,
            "max_width": null,
            "order": null,
            "_view_module_version": "1.2.0",
            "grid_template_areas": null,
            "object_position": null,
            "object_fit": null,
            "grid_auto_columns": null,
            "margin": null,
            "display": null,
            "left": null
          }
        },
        "16094f858c9845e89d423826f24c41cb": {
          "model_module": "@jupyter-widgets/controls",
          "model_name": "FloatProgressModel",
          "state": {
            "_view_name": "ProgressView",
            "style": "IPY_MODEL_4e76ef27f6f044fbb57a08105099887f",
            "_dom_classes": [],
            "description": "sample_submission.csv: 100%",
            "_model_name": "FloatProgressModel",
            "bar_style": "success",
            "max": 60015,
            "_view_module": "@jupyter-widgets/controls",
            "_model_module_version": "1.5.0",
            "value": 60015,
            "_view_count": null,
            "_view_module_version": "1.5.0",
            "orientation": "horizontal",
            "min": 0,
            "description_tooltip": null,
            "_model_module": "@jupyter-widgets/controls",
            "layout": "IPY_MODEL_3862e581016041d4a7ba93e2a88ef297"
          }
        },
        "52f48a068b924573952c77207a7f3793": {
          "model_module": "@jupyter-widgets/controls",
          "model_name": "HTMLModel",
          "state": {
            "_view_name": "HTMLView",
            "style": "IPY_MODEL_627507942eb94fd2a5b794ab9c46feb3",
            "_dom_classes": [],
            "description": "",
            "_model_name": "HTMLModel",
            "placeholder": "​",
            "_view_module": "@jupyter-widgets/controls",
            "_model_module_version": "1.5.0",
            "value": " 60.0k/60.0k [00:00&lt;00:00, 854kB/s]",
            "_view_count": null,
            "_view_module_version": "1.5.0",
            "description_tooltip": null,
            "_model_module": "@jupyter-widgets/controls",
            "layout": "IPY_MODEL_cf0d8c3b22e54fdbbb70b7f27196e7d1"
          }
        },
        "4e76ef27f6f044fbb57a08105099887f": {
          "model_module": "@jupyter-widgets/controls",
          "model_name": "ProgressStyleModel",
          "state": {
            "_view_name": "StyleView",
            "_model_name": "ProgressStyleModel",
            "description_width": "initial",
            "_view_module": "@jupyter-widgets/base",
            "_model_module_version": "1.5.0",
            "_view_count": null,
            "_view_module_version": "1.2.0",
            "bar_color": null,
            "_model_module": "@jupyter-widgets/controls"
          }
        },
        "3862e581016041d4a7ba93e2a88ef297": {
          "model_module": "@jupyter-widgets/base",
          "model_name": "LayoutModel",
          "state": {
            "_view_name": "LayoutView",
            "grid_template_rows": null,
            "right": null,
            "justify_content": null,
            "_view_module": "@jupyter-widgets/base",
            "overflow": null,
            "_model_module_version": "1.2.0",
            "_view_count": null,
            "flex_flow": null,
            "width": null,
            "min_width": null,
            "border": null,
            "align_items": null,
            "bottom": null,
            "_model_module": "@jupyter-widgets/base",
            "top": null,
            "grid_column": null,
            "overflow_y": null,
            "overflow_x": null,
            "grid_auto_flow": null,
            "grid_area": null,
            "grid_template_columns": null,
            "flex": null,
            "_model_name": "LayoutModel",
            "justify_items": null,
            "grid_row": null,
            "max_height": null,
            "align_content": null,
            "visibility": null,
            "align_self": null,
            "height": null,
            "min_height": null,
            "padding": null,
            "grid_auto_rows": null,
            "grid_gap": null,
            "max_width": null,
            "order": null,
            "_view_module_version": "1.2.0",
            "grid_template_areas": null,
            "object_position": null,
            "object_fit": null,
            "grid_auto_columns": null,
            "margin": null,
            "display": null,
            "left": null
          }
        },
        "627507942eb94fd2a5b794ab9c46feb3": {
          "model_module": "@jupyter-widgets/controls",
          "model_name": "DescriptionStyleModel",
          "state": {
            "_view_name": "StyleView",
            "_model_name": "DescriptionStyleModel",
            "description_width": "",
            "_view_module": "@jupyter-widgets/base",
            "_model_module_version": "1.5.0",
            "_view_count": null,
            "_view_module_version": "1.2.0",
            "_model_module": "@jupyter-widgets/controls"
          }
        },
        "cf0d8c3b22e54fdbbb70b7f27196e7d1": {
          "model_module": "@jupyter-widgets/base",
          "model_name": "LayoutModel",
          "state": {
            "_view_name": "LayoutView",
            "grid_template_rows": null,
            "right": null,
            "justify_content": null,
            "_view_module": "@jupyter-widgets/base",
            "overflow": null,
            "_model_module_version": "1.2.0",
            "_view_count": null,
            "flex_flow": null,
            "width": null,
            "min_width": null,
            "border": null,
            "align_items": null,
            "bottom": null,
            "_model_module": "@jupyter-widgets/base",
            "top": null,
            "grid_column": null,
            "overflow_y": null,
            "overflow_x": null,
            "grid_auto_flow": null,
            "grid_area": null,
            "grid_template_columns": null,
            "flex": null,
            "_model_name": "LayoutModel",
            "justify_items": null,
            "grid_row": null,
            "max_height": null,
            "align_content": null,
            "visibility": null,
            "align_self": null,
            "height": null,
            "min_height": null,
            "padding": null,
            "grid_auto_rows": null,
            "grid_gap": null,
            "max_width": null,
            "order": null,
            "_view_module_version": "1.2.0",
            "grid_template_areas": null,
            "object_position": null,
            "object_fit": null,
            "grid_auto_columns": null,
            "margin": null,
            "display": null,
            "left": null
          }
        },
        "31216c9aa15a47509bb4c06e16f26057": {
          "model_module": "@jupyter-widgets/controls",
          "model_name": "HBoxModel",
          "state": {
            "_view_name": "HBoxView",
            "_dom_classes": [],
            "_model_name": "HBoxModel",
            "_view_module": "@jupyter-widgets/controls",
            "_model_module_version": "1.5.0",
            "_view_count": null,
            "_view_module_version": "1.5.0",
            "box_style": "",
            "layout": "IPY_MODEL_fd8774d7137e4a5693a3623a73b82a2f",
            "_model_module": "@jupyter-widgets/controls",
            "children": [
              "IPY_MODEL_c542642ed89e4d82b04035d8021df7e7",
              "IPY_MODEL_d7413bffb4f540b9b65c7198ba223a51"
            ]
          }
        },
        "fd8774d7137e4a5693a3623a73b82a2f": {
          "model_module": "@jupyter-widgets/base",
          "model_name": "LayoutModel",
          "state": {
            "_view_name": "LayoutView",
            "grid_template_rows": null,
            "right": null,
            "justify_content": null,
            "_view_module": "@jupyter-widgets/base",
            "overflow": null,
            "_model_module_version": "1.2.0",
            "_view_count": null,
            "flex_flow": null,
            "width": null,
            "min_width": null,
            "border": null,
            "align_items": null,
            "bottom": null,
            "_model_module": "@jupyter-widgets/base",
            "top": null,
            "grid_column": null,
            "overflow_y": null,
            "overflow_x": null,
            "grid_auto_flow": null,
            "grid_area": null,
            "grid_template_columns": null,
            "flex": null,
            "_model_name": "LayoutModel",
            "justify_items": null,
            "grid_row": null,
            "max_height": null,
            "align_content": null,
            "visibility": null,
            "align_self": null,
            "height": null,
            "min_height": null,
            "padding": null,
            "grid_auto_rows": null,
            "grid_gap": null,
            "max_width": null,
            "order": null,
            "_view_module_version": "1.2.0",
            "grid_template_areas": null,
            "object_position": null,
            "object_fit": null,
            "grid_auto_columns": null,
            "margin": null,
            "display": null,
            "left": null
          }
        },
        "c542642ed89e4d82b04035d8021df7e7": {
          "model_module": "@jupyter-widgets/controls",
          "model_name": "FloatProgressModel",
          "state": {
            "_view_name": "ProgressView",
            "style": "IPY_MODEL_d96a45ec70d34b3390bc0a1ccc505dd6",
            "_dom_classes": [],
            "description": "dataset.zip: 100%",
            "_model_name": "FloatProgressModel",
            "bar_style": "success",
            "max": 724488,
            "_view_module": "@jupyter-widgets/controls",
            "_model_module_version": "1.5.0",
            "value": 724488,
            "_view_count": null,
            "_view_module_version": "1.5.0",
            "orientation": "horizontal",
            "min": 0,
            "description_tooltip": null,
            "_model_module": "@jupyter-widgets/controls",
            "layout": "IPY_MODEL_0c37b5a53d7043c5911fd3a06e0e3283"
          }
        },
        "d7413bffb4f540b9b65c7198ba223a51": {
          "model_module": "@jupyter-widgets/controls",
          "model_name": "HTMLModel",
          "state": {
            "_view_name": "HTMLView",
            "style": "IPY_MODEL_64490be7d56a4b528d7672a5e4b06376",
            "_dom_classes": [],
            "description": "",
            "_model_name": "HTMLModel",
            "placeholder": "​",
            "_view_module": "@jupyter-widgets/controls",
            "_model_module_version": "1.5.0",
            "value": " 724k/724k [00:02&lt;00:00, 303kB/s]",
            "_view_count": null,
            "_view_module_version": "1.5.0",
            "description_tooltip": null,
            "_model_module": "@jupyter-widgets/controls",
            "layout": "IPY_MODEL_dde0579fc03c42efa6d5596793aec8d7"
          }
        },
        "d96a45ec70d34b3390bc0a1ccc505dd6": {
          "model_module": "@jupyter-widgets/controls",
          "model_name": "ProgressStyleModel",
          "state": {
            "_view_name": "StyleView",
            "_model_name": "ProgressStyleModel",
            "description_width": "initial",
            "_view_module": "@jupyter-widgets/base",
            "_model_module_version": "1.5.0",
            "_view_count": null,
            "_view_module_version": "1.2.0",
            "bar_color": null,
            "_model_module": "@jupyter-widgets/controls"
          }
        },
        "0c37b5a53d7043c5911fd3a06e0e3283": {
          "model_module": "@jupyter-widgets/base",
          "model_name": "LayoutModel",
          "state": {
            "_view_name": "LayoutView",
            "grid_template_rows": null,
            "right": null,
            "justify_content": null,
            "_view_module": "@jupyter-widgets/base",
            "overflow": null,
            "_model_module_version": "1.2.0",
            "_view_count": null,
            "flex_flow": null,
            "width": null,
            "min_width": null,
            "border": null,
            "align_items": null,
            "bottom": null,
            "_model_module": "@jupyter-widgets/base",
            "top": null,
            "grid_column": null,
            "overflow_y": null,
            "overflow_x": null,
            "grid_auto_flow": null,
            "grid_area": null,
            "grid_template_columns": null,
            "flex": null,
            "_model_name": "LayoutModel",
            "justify_items": null,
            "grid_row": null,
            "max_height": null,
            "align_content": null,
            "visibility": null,
            "align_self": null,
            "height": null,
            "min_height": null,
            "padding": null,
            "grid_auto_rows": null,
            "grid_gap": null,
            "max_width": null,
            "order": null,
            "_view_module_version": "1.2.0",
            "grid_template_areas": null,
            "object_position": null,
            "object_fit": null,
            "grid_auto_columns": null,
            "margin": null,
            "display": null,
            "left": null
          }
        },
        "64490be7d56a4b528d7672a5e4b06376": {
          "model_module": "@jupyter-widgets/controls",
          "model_name": "DescriptionStyleModel",
          "state": {
            "_view_name": "StyleView",
            "_model_name": "DescriptionStyleModel",
            "description_width": "",
            "_view_module": "@jupyter-widgets/base",
            "_model_module_version": "1.5.0",
            "_view_count": null,
            "_view_module_version": "1.2.0",
            "_model_module": "@jupyter-widgets/controls"
          }
        },
        "dde0579fc03c42efa6d5596793aec8d7": {
          "model_module": "@jupyter-widgets/base",
          "model_name": "LayoutModel",
          "state": {
            "_view_name": "LayoutView",
            "grid_template_rows": null,
            "right": null,
            "justify_content": null,
            "_view_module": "@jupyter-widgets/base",
            "overflow": null,
            "_model_module_version": "1.2.0",
            "_view_count": null,
            "flex_flow": null,
            "width": null,
            "min_width": null,
            "border": null,
            "align_items": null,
            "bottom": null,
            "_model_module": "@jupyter-widgets/base",
            "top": null,
            "grid_column": null,
            "overflow_y": null,
            "overflow_x": null,
            "grid_auto_flow": null,
            "grid_area": null,
            "grid_template_columns": null,
            "flex": null,
            "_model_name": "LayoutModel",
            "justify_items": null,
            "grid_row": null,
            "max_height": null,
            "align_content": null,
            "visibility": null,
            "align_self": null,
            "height": null,
            "min_height": null,
            "padding": null,
            "grid_auto_rows": null,
            "grid_gap": null,
            "max_width": null,
            "order": null,
            "_view_module_version": "1.2.0",
            "grid_template_areas": null,
            "object_position": null,
            "object_fit": null,
            "grid_auto_columns": null,
            "margin": null,
            "display": null,
            "left": null
          }
        },
        "1e1c6dab927449d7b5d1682a147810ad": {
          "model_module": "@jupyter-widgets/controls",
          "model_name": "HBoxModel",
          "state": {
            "_view_name": "HBoxView",
            "_dom_classes": [],
            "_model_name": "HBoxModel",
            "_view_module": "@jupyter-widgets/controls",
            "_model_module_version": "1.5.0",
            "_view_count": null,
            "_view_module_version": "1.5.0",
            "box_style": "",
            "layout": "IPY_MODEL_c8ca918944f045e4ad8749625100bd7e",
            "_model_module": "@jupyter-widgets/controls",
            "children": [
              "IPY_MODEL_930b62994cb941429fe7894c3a3b492e",
              "IPY_MODEL_0f65e30c9e964cf4b9e9eb198ada4d11"
            ]
          }
        },
        "c8ca918944f045e4ad8749625100bd7e": {
          "model_module": "@jupyter-widgets/base",
          "model_name": "LayoutModel",
          "state": {
            "_view_name": "LayoutView",
            "grid_template_rows": null,
            "right": null,
            "justify_content": null,
            "_view_module": "@jupyter-widgets/base",
            "overflow": null,
            "_model_module_version": "1.2.0",
            "_view_count": null,
            "flex_flow": null,
            "width": null,
            "min_width": null,
            "border": null,
            "align_items": null,
            "bottom": null,
            "_model_module": "@jupyter-widgets/base",
            "top": null,
            "grid_column": null,
            "overflow_y": null,
            "overflow_x": null,
            "grid_auto_flow": null,
            "grid_area": null,
            "grid_template_columns": null,
            "flex": null,
            "_model_name": "LayoutModel",
            "justify_items": null,
            "grid_row": null,
            "max_height": null,
            "align_content": null,
            "visibility": null,
            "align_self": null,
            "height": null,
            "min_height": null,
            "padding": null,
            "grid_auto_rows": null,
            "grid_gap": null,
            "max_width": null,
            "order": null,
            "_view_module_version": "1.2.0",
            "grid_template_areas": null,
            "object_position": null,
            "object_fit": null,
            "grid_auto_columns": null,
            "margin": null,
            "display": null,
            "left": null
          }
        },
        "930b62994cb941429fe7894c3a3b492e": {
          "model_module": "@jupyter-widgets/controls",
          "model_name": "FloatProgressModel",
          "state": {
            "_view_name": "ProgressView",
            "style": "IPY_MODEL_413cdefd80a444f8923547ce4fe3f872",
            "_dom_classes": [],
            "description": "sample_submission.csv: 100%",
            "_model_name": "FloatProgressModel",
            "bar_style": "success",
            "max": 60015,
            "_view_module": "@jupyter-widgets/controls",
            "_model_module_version": "1.5.0",
            "value": 60015,
            "_view_count": null,
            "_view_module_version": "1.5.0",
            "orientation": "horizontal",
            "min": 0,
            "description_tooltip": null,
            "_model_module": "@jupyter-widgets/controls",
            "layout": "IPY_MODEL_908caba120004be1b3b6d4efc51a7ee4"
          }
        },
        "0f65e30c9e964cf4b9e9eb198ada4d11": {
          "model_module": "@jupyter-widgets/controls",
          "model_name": "HTMLModel",
          "state": {
            "_view_name": "HTMLView",
            "style": "IPY_MODEL_ab02bb8289c9450299c84f95af773d71",
            "_dom_classes": [],
            "description": "",
            "_model_name": "HTMLModel",
            "placeholder": "​",
            "_view_module": "@jupyter-widgets/controls",
            "_model_module_version": "1.5.0",
            "value": " 60.0k/60.0k [00:00&lt;00:00, 585kB/s]",
            "_view_count": null,
            "_view_module_version": "1.5.0",
            "description_tooltip": null,
            "_model_module": "@jupyter-widgets/controls",
            "layout": "IPY_MODEL_9c263e30560640fe8d658c09534fd88a"
          }
        },
        "413cdefd80a444f8923547ce4fe3f872": {
          "model_module": "@jupyter-widgets/controls",
          "model_name": "ProgressStyleModel",
          "state": {
            "_view_name": "StyleView",
            "_model_name": "ProgressStyleModel",
            "description_width": "initial",
            "_view_module": "@jupyter-widgets/base",
            "_model_module_version": "1.5.0",
            "_view_count": null,
            "_view_module_version": "1.2.0",
            "bar_color": null,
            "_model_module": "@jupyter-widgets/controls"
          }
        },
        "908caba120004be1b3b6d4efc51a7ee4": {
          "model_module": "@jupyter-widgets/base",
          "model_name": "LayoutModel",
          "state": {
            "_view_name": "LayoutView",
            "grid_template_rows": null,
            "right": null,
            "justify_content": null,
            "_view_module": "@jupyter-widgets/base",
            "overflow": null,
            "_model_module_version": "1.2.0",
            "_view_count": null,
            "flex_flow": null,
            "width": null,
            "min_width": null,
            "border": null,
            "align_items": null,
            "bottom": null,
            "_model_module": "@jupyter-widgets/base",
            "top": null,
            "grid_column": null,
            "overflow_y": null,
            "overflow_x": null,
            "grid_auto_flow": null,
            "grid_area": null,
            "grid_template_columns": null,
            "flex": null,
            "_model_name": "LayoutModel",
            "justify_items": null,
            "grid_row": null,
            "max_height": null,
            "align_content": null,
            "visibility": null,
            "align_self": null,
            "height": null,
            "min_height": null,
            "padding": null,
            "grid_auto_rows": null,
            "grid_gap": null,
            "max_width": null,
            "order": null,
            "_view_module_version": "1.2.0",
            "grid_template_areas": null,
            "object_position": null,
            "object_fit": null,
            "grid_auto_columns": null,
            "margin": null,
            "display": null,
            "left": null
          }
        },
        "ab02bb8289c9450299c84f95af773d71": {
          "model_module": "@jupyter-widgets/controls",
          "model_name": "DescriptionStyleModel",
          "state": {
            "_view_name": "StyleView",
            "_model_name": "DescriptionStyleModel",
            "description_width": "",
            "_view_module": "@jupyter-widgets/base",
            "_model_module_version": "1.5.0",
            "_view_count": null,
            "_view_module_version": "1.2.0",
            "_model_module": "@jupyter-widgets/controls"
          }
        },
        "9c263e30560640fe8d658c09534fd88a": {
          "model_module": "@jupyter-widgets/base",
          "model_name": "LayoutModel",
          "state": {
            "_view_name": "LayoutView",
            "grid_template_rows": null,
            "right": null,
            "justify_content": null,
            "_view_module": "@jupyter-widgets/base",
            "overflow": null,
            "_model_module_version": "1.2.0",
            "_view_count": null,
            "flex_flow": null,
            "width": null,
            "min_width": null,
            "border": null,
            "align_items": null,
            "bottom": null,
            "_model_module": "@jupyter-widgets/base",
            "top": null,
            "grid_column": null,
            "overflow_y": null,
            "overflow_x": null,
            "grid_auto_flow": null,
            "grid_area": null,
            "grid_template_columns": null,
            "flex": null,
            "_model_name": "LayoutModel",
            "justify_items": null,
            "grid_row": null,
            "max_height": null,
            "align_content": null,
            "visibility": null,
            "align_self": null,
            "height": null,
            "min_height": null,
            "padding": null,
            "grid_auto_rows": null,
            "grid_gap": null,
            "max_width": null,
            "order": null,
            "_view_module_version": "1.2.0",
            "grid_template_areas": null,
            "object_position": null,
            "object_fit": null,
            "grid_auto_columns": null,
            "margin": null,
            "display": null,
            "left": null
          }
        },
        "8e58b2e0b8454301a1165e5df378cfd1": {
          "model_module": "@jupyter-widgets/controls",
          "model_name": "HBoxModel",
          "state": {
            "_view_name": "HBoxView",
            "_dom_classes": [],
            "_model_name": "HBoxModel",
            "_view_module": "@jupyter-widgets/controls",
            "_model_module_version": "1.5.0",
            "_view_count": null,
            "_view_module_version": "1.5.0",
            "box_style": "",
            "layout": "IPY_MODEL_174df592f5af4164bf4b67a0de872f55",
            "_model_module": "@jupyter-widgets/controls",
            "children": [
              "IPY_MODEL_4309f51bcda7458da6cb7e0e1c84928b",
              "IPY_MODEL_27ae8ab29b2d42789e507e1d65c21d69"
            ]
          }
        },
        "174df592f5af4164bf4b67a0de872f55": {
          "model_module": "@jupyter-widgets/base",
          "model_name": "LayoutModel",
          "state": {
            "_view_name": "LayoutView",
            "grid_template_rows": null,
            "right": null,
            "justify_content": null,
            "_view_module": "@jupyter-widgets/base",
            "overflow": null,
            "_model_module_version": "1.2.0",
            "_view_count": null,
            "flex_flow": null,
            "width": null,
            "min_width": null,
            "border": null,
            "align_items": null,
            "bottom": null,
            "_model_module": "@jupyter-widgets/base",
            "top": null,
            "grid_column": null,
            "overflow_y": null,
            "overflow_x": null,
            "grid_auto_flow": null,
            "grid_area": null,
            "grid_template_columns": null,
            "flex": null,
            "_model_name": "LayoutModel",
            "justify_items": null,
            "grid_row": null,
            "max_height": null,
            "align_content": null,
            "visibility": null,
            "align_self": null,
            "height": null,
            "min_height": null,
            "padding": null,
            "grid_auto_rows": null,
            "grid_gap": null,
            "max_width": null,
            "order": null,
            "_view_module_version": "1.2.0",
            "grid_template_areas": null,
            "object_position": null,
            "object_fit": null,
            "grid_auto_columns": null,
            "margin": null,
            "display": null,
            "left": null
          }
        },
        "4309f51bcda7458da6cb7e0e1c84928b": {
          "model_module": "@jupyter-widgets/controls",
          "model_name": "FloatProgressModel",
          "state": {
            "_view_name": "ProgressView",
            "style": "IPY_MODEL_fbc4a746dd8d45a7ba36b69abe9dfd46",
            "_dom_classes": [],
            "description": "dataset.zip: 100%",
            "_model_name": "FloatProgressModel",
            "bar_style": "success",
            "max": 724488,
            "_view_module": "@jupyter-widgets/controls",
            "_model_module_version": "1.5.0",
            "value": 724488,
            "_view_count": null,
            "_view_module_version": "1.5.0",
            "orientation": "horizontal",
            "min": 0,
            "description_tooltip": null,
            "_model_module": "@jupyter-widgets/controls",
            "layout": "IPY_MODEL_8289f77e410d4ea59a081d645211eaaf"
          }
        },
        "27ae8ab29b2d42789e507e1d65c21d69": {
          "model_module": "@jupyter-widgets/controls",
          "model_name": "HTMLModel",
          "state": {
            "_view_name": "HTMLView",
            "style": "IPY_MODEL_7731c1f6bf2d4f86a5dd8b0dbb17f33f",
            "_dom_classes": [],
            "description": "",
            "_model_name": "HTMLModel",
            "placeholder": "​",
            "_view_module": "@jupyter-widgets/controls",
            "_model_module_version": "1.5.0",
            "value": " 724k/724k [00:00&lt;00:00, 2.82MB/s]",
            "_view_count": null,
            "_view_module_version": "1.5.0",
            "description_tooltip": null,
            "_model_module": "@jupyter-widgets/controls",
            "layout": "IPY_MODEL_16818dd8bd244c4189cd1a48d02a3922"
          }
        },
        "fbc4a746dd8d45a7ba36b69abe9dfd46": {
          "model_module": "@jupyter-widgets/controls",
          "model_name": "ProgressStyleModel",
          "state": {
            "_view_name": "StyleView",
            "_model_name": "ProgressStyleModel",
            "description_width": "initial",
            "_view_module": "@jupyter-widgets/base",
            "_model_module_version": "1.5.0",
            "_view_count": null,
            "_view_module_version": "1.2.0",
            "bar_color": null,
            "_model_module": "@jupyter-widgets/controls"
          }
        },
        "8289f77e410d4ea59a081d645211eaaf": {
          "model_module": "@jupyter-widgets/base",
          "model_name": "LayoutModel",
          "state": {
            "_view_name": "LayoutView",
            "grid_template_rows": null,
            "right": null,
            "justify_content": null,
            "_view_module": "@jupyter-widgets/base",
            "overflow": null,
            "_model_module_version": "1.2.0",
            "_view_count": null,
            "flex_flow": null,
            "width": null,
            "min_width": null,
            "border": null,
            "align_items": null,
            "bottom": null,
            "_model_module": "@jupyter-widgets/base",
            "top": null,
            "grid_column": null,
            "overflow_y": null,
            "overflow_x": null,
            "grid_auto_flow": null,
            "grid_area": null,
            "grid_template_columns": null,
            "flex": null,
            "_model_name": "LayoutModel",
            "justify_items": null,
            "grid_row": null,
            "max_height": null,
            "align_content": null,
            "visibility": null,
            "align_self": null,
            "height": null,
            "min_height": null,
            "padding": null,
            "grid_auto_rows": null,
            "grid_gap": null,
            "max_width": null,
            "order": null,
            "_view_module_version": "1.2.0",
            "grid_template_areas": null,
            "object_position": null,
            "object_fit": null,
            "grid_auto_columns": null,
            "margin": null,
            "display": null,
            "left": null
          }
        },
        "7731c1f6bf2d4f86a5dd8b0dbb17f33f": {
          "model_module": "@jupyter-widgets/controls",
          "model_name": "DescriptionStyleModel",
          "state": {
            "_view_name": "StyleView",
            "_model_name": "DescriptionStyleModel",
            "description_width": "",
            "_view_module": "@jupyter-widgets/base",
            "_model_module_version": "1.5.0",
            "_view_count": null,
            "_view_module_version": "1.2.0",
            "_model_module": "@jupyter-widgets/controls"
          }
        },
        "16818dd8bd244c4189cd1a48d02a3922": {
          "model_module": "@jupyter-widgets/base",
          "model_name": "LayoutModel",
          "state": {
            "_view_name": "LayoutView",
            "grid_template_rows": null,
            "right": null,
            "justify_content": null,
            "_view_module": "@jupyter-widgets/base",
            "overflow": null,
            "_model_module_version": "1.2.0",
            "_view_count": null,
            "flex_flow": null,
            "width": null,
            "min_width": null,
            "border": null,
            "align_items": null,
            "bottom": null,
            "_model_module": "@jupyter-widgets/base",
            "top": null,
            "grid_column": null,
            "overflow_y": null,
            "overflow_x": null,
            "grid_auto_flow": null,
            "grid_area": null,
            "grid_template_columns": null,
            "flex": null,
            "_model_name": "LayoutModel",
            "justify_items": null,
            "grid_row": null,
            "max_height": null,
            "align_content": null,
            "visibility": null,
            "align_self": null,
            "height": null,
            "min_height": null,
            "padding": null,
            "grid_auto_rows": null,
            "grid_gap": null,
            "max_width": null,
            "order": null,
            "_view_module_version": "1.2.0",
            "grid_template_areas": null,
            "object_position": null,
            "object_fit": null,
            "grid_auto_columns": null,
            "margin": null,
            "display": null,
            "left": null
          }
        }
      }
    }
  },
  "cells": [
    {
      "cell_type": "code",
      "metadata": {
        "colab": {
          "base_uri": "https://localhost:8080/"
        },
        "id": "n5OcbF5MxowU",
        "outputId": "e253b2d4-d09b-46ff-cf79-706f077e0c2d"
      },
      "source": [
        "! pip install git+https://gitlab.aicrowd.com/yoogottamk/aicrowd-cli.git >/dev/null\n",
        "%load_ext aicrowd.magic"
      ],
      "execution_count": null,
      "outputs": [
        {
          "output_type": "stream",
          "text": [
            "  Running command git clone -q https://gitlab.aicrowd.com/yoogottamk/aicrowd-cli.git /tmp/pip-req-build-1dexf4yq\n"
          ],
          "name": "stdout"
        }
      ]
    },
    {
      "cell_type": "code",
      "metadata": {
        "colab": {
          "base_uri": "https://localhost:8080/"
        },
        "id": "kmp1DmR2x3xq",
        "outputId": "46099476-c39c-4408-fef8-de623d300f67"
      },
      "source": [
        "API_KEY = \"47db8507b8e1dda36d071b1b32a27354\" \n",
        "%aicrowd login --api-key $API_KEY"
      ],
      "execution_count": null,
      "outputs": [
        {
          "output_type": "stream",
          "text": [
            "\u001b[32mAPI Key valid\u001b[0m\n",
            "\u001b[32mSaved API Key successfully!\u001b[0m\n"
          ],
          "name": "stdout"
        }
      ]
    },
    {
      "cell_type": "code",
      "metadata": {
        "colab": {
          "base_uri": "https://localhost:8080/",
          "height": 212,
          "referenced_widgets": [
            "a6fc46501b914e4db0ee1bec4274710d",
            "9225df633b1e48188cc8955aab088ef4",
            "16094f858c9845e89d423826f24c41cb",
            "52f48a068b924573952c77207a7f3793",
            "4e76ef27f6f044fbb57a08105099887f",
            "3862e581016041d4a7ba93e2a88ef297",
            "627507942eb94fd2a5b794ab9c46feb3",
            "cf0d8c3b22e54fdbbb70b7f27196e7d1",
            "31216c9aa15a47509bb4c06e16f26057",
            "fd8774d7137e4a5693a3623a73b82a2f",
            "c542642ed89e4d82b04035d8021df7e7",
            "d7413bffb4f540b9b65c7198ba223a51",
            "d96a45ec70d34b3390bc0a1ccc505dd6",
            "0c37b5a53d7043c5911fd3a06e0e3283",
            "64490be7d56a4b528d7672a5e4b06376",
            "dde0579fc03c42efa6d5596793aec8d7",
            "1e1c6dab927449d7b5d1682a147810ad",
            "c8ca918944f045e4ad8749625100bd7e",
            "930b62994cb941429fe7894c3a3b492e",
            "0f65e30c9e964cf4b9e9eb198ada4d11",
            "413cdefd80a444f8923547ce4fe3f872",
            "908caba120004be1b3b6d4efc51a7ee4",
            "ab02bb8289c9450299c84f95af773d71",
            "9c263e30560640fe8d658c09534fd88a",
            "8e58b2e0b8454301a1165e5df378cfd1",
            "174df592f5af4164bf4b67a0de872f55",
            "4309f51bcda7458da6cb7e0e1c84928b",
            "27ae8ab29b2d42789e507e1d65c21d69",
            "fbc4a746dd8d45a7ba36b69abe9dfd46",
            "8289f77e410d4ea59a081d645211eaaf",
            "7731c1f6bf2d4f86a5dd8b0dbb17f33f",
            "16818dd8bd244c4189cd1a48d02a3922"
          ]
        },
        "id": "rtHjOfLIx9KD",
        "outputId": "3d05d29b-44e7-4394-ede0-84ce74769f93"
      },
      "source": [
        "%aicrowd dataset download -c tile-slider -j 3\n",
        "%aicrowd dataset download --challenge tile-slider -j 3"
      ],
      "execution_count": null,
      "outputs": [
        {
          "output_type": "display_data",
          "data": {
            "application/vnd.jupyter.widget-view+json": {
              "model_id": "a6fc46501b914e4db0ee1bec4274710d",
              "version_minor": 0,
              "version_major": 2
            },
            "text/plain": [
              "HBox(children=(FloatProgress(value=0.0, description='sample_submission.csv', max=60015.0, style=ProgressStyle(…"
            ]
          },
          "metadata": {
            "tags": []
          }
        },
        {
          "output_type": "stream",
          "text": [
            "\n"
          ],
          "name": "stdout"
        },
        {
          "output_type": "display_data",
          "data": {
            "application/vnd.jupyter.widget-view+json": {
              "model_id": "31216c9aa15a47509bb4c06e16f26057",
              "version_minor": 0,
              "version_major": 2
            },
            "text/plain": [
              "HBox(children=(FloatProgress(value=0.0, description='dataset.zip', max=724488.0, style=ProgressStyle(descripti…"
            ]
          },
          "metadata": {
            "tags": []
          }
        },
        {
          "output_type": "stream",
          "text": [
            "\n"
          ],
          "name": "stdout"
        },
        {
          "output_type": "display_data",
          "data": {
            "application/vnd.jupyter.widget-view+json": {
              "model_id": "1e1c6dab927449d7b5d1682a147810ad",
              "version_minor": 0,
              "version_major": 2
            },
            "text/plain": [
              "HBox(children=(FloatProgress(value=0.0, description='sample_submission.csv', max=60015.0, style=ProgressStyle(…"
            ]
          },
          "metadata": {
            "tags": []
          }
        },
        {
          "output_type": "stream",
          "text": [
            "\n"
          ],
          "name": "stdout"
        },
        {
          "output_type": "display_data",
          "data": {
            "application/vnd.jupyter.widget-view+json": {
              "model_id": "8e58b2e0b8454301a1165e5df378cfd1",
              "version_minor": 0,
              "version_major": 2
            },
            "text/plain": [
              "HBox(children=(FloatProgress(value=0.0, description='dataset.zip', max=724488.0, style=ProgressStyle(descripti…"
            ]
          },
          "metadata": {
            "tags": []
          }
        },
        {
          "output_type": "stream",
          "text": [
            "\n"
          ],
          "name": "stdout"
        }
      ]
    },
    {
      "cell_type": "code",
      "metadata": {
        "id": "ACD2WQchx_T2"
      },
      "source": [
        "! unzip -q dataset.zip"
      ],
      "execution_count": null,
      "outputs": []
    },
    {
      "cell_type": "code",
      "metadata": {
        "id": "wtAs3PEryDZ8"
      },
      "source": [
        "import os\n",
        "import random\n",
        "import tqdm\n",
        "import pandas as pd\n",
        "import numpy as np"
      ],
      "execution_count": null,
      "outputs": []
    },
    {
      "cell_type": "code",
      "metadata": {
        "id": "A_YyPiMZyFKQ"
      },
      "source": [
        "DATA_PATH = \"dataset/\" #path where data is stored"
      ],
      "execution_count": null,
      "outputs": []
    },
    {
      "cell_type": "code",
      "metadata": {
        "colab": {
          "base_uri": "https://localhost:8080/"
        },
        "id": "xxo-LJKLyG5Q",
        "outputId": "d6f41f7f-a646-4830-e011-a0a1629f50bf"
      },
      "source": [
        "file = open(os.path.join(DATA_PATH,os.listdir(DATA_PATH)[0]), \"r\")\n",
        "print(file.read())"
      ],
      "execution_count": null,
      "outputs": [
        {
          "output_type": "stream",
          "text": [
            "40 20\n",
            "....#..#.#....#..#.#\n",
            "......#...##....#.##\n",
            "....#..#....##....##\n",
            ".....##.##.#####.#..\n",
            ".....#........###..#\n",
            ".#......#.##.#.#..#.\n",
            ".....#.#...#.#..#...\n",
            "......#........##...\n",
            "...##....#...##..##.\n",
            ".#.#.#.#.##..#....##\n",
            ".#.#..#...#...###...\n",
            "..#....#.###.#....#.\n",
            "....#####.####.....#\n",
            "#..............#..##\n",
            ".#..#........#.##...\n",
            "...##....##.#.#.#..#\n",
            "##.....#....#..#...#\n",
            ".....#...........##.\n",
            ".#.##.#.#.###...#...\n",
            "##..##...#....#.....\n",
            "#........#.###.#....\n",
            "#......#.#..##.#....\n",
            "#....#....##.......#\n",
            "..#.......##...##...\n",
            ".#.......#.........#\n",
            ".##...#...#..#####.#\n",
            ".#.....#...#....#.##\n",
            "..#.#...##.###.##..#\n",
            ".#.#.....#..###.....\n",
            ".#..#.##.#....#.....\n",
            "......###.......#.##\n",
            "................##..\n",
            "#.......#.#.......##\n",
            "..#..#.........##...\n",
            "##..####...###.#.##.\n",
            "##.......#...#...#..\n",
            ".#...#.#...#......#.\n",
            "#.###.#.#.........##\n",
            "..#.#.#.#...##.#.#.#\n",
            "..##..#.......#....#\n",
            "3\n",
            "38 10 38 14\n",
            "36 4 31 10\n",
            "8 5 14 3\n",
            "\n"
          ],
          "name": "stdout"
        }
      ]
    },
    {
      "cell_type": "code",
      "metadata": {
        "id": "hmevLYaqyI1f"
      },
      "source": [
        "class GridState:\n",
        "    def __init__(self, input_file):\n",
        "        self.UP = (-1, 0)\n",
        "        self.DOWN = (1, 0)\n",
        "        self.LEFT = (0, -1)\n",
        "        self.RIGHT = (0, 1)\n",
        "        self.load(input_file)\n",
        "\n",
        "    def load(self, input_file):\n",
        "        file = open(input_file, 'r')\n",
        "        # Get the Grid\n",
        "        self.n, self.m = list(map(int, file.readline().strip().split()))\n",
        "        self.grid = np.array(\n",
        "            [[cell == \".\" for cell in file.readline().strip()] for _ in range(self.n)])\n",
        "        k = int(file.readline().strip())\n",
        "        self.tiles, self.targets = [], []\n",
        "        for _ in range(k):\n",
        "            line = list(map(int, file.readline().strip().split()))\n",
        "            self.tiles.append((line[0], line[1]))\n",
        "            self.targets.append((line[2], line[3]))\n",
        "        file.close()\n",
        "\n",
        "    def move_value(self, direction):\n",
        "        if direction == 'U':\n",
        "            return self.UP\n",
        "        elif direction == 'D':\n",
        "            return self.DOWN\n",
        "        elif direction == 'L':\n",
        "            return self.LEFT\n",
        "        elif direction == 'R':\n",
        "            return self.RIGHT\n",
        "\n",
        "    def move(self, move):\n",
        "        delta_r, delta_c = self.move_value(move)\n",
        "        flag = 0\n",
        "        for _ in range(max(self.n, self.m) + 1):\n",
        "            for idx, tile in enumerate(self.tiles):\n",
        "                next_r, next_c = tile[0] + delta_r, tile[1] + delta_c\n",
        "                if 0 <= next_r < self.n and 0 <= next_c < self.m and \\\n",
        "                        self.grid[next_r, next_c] and (next_r, next_c) not in self.tiles:\n",
        "                    flag = 1\n",
        "                    tile = tile[0] + delta_r, tile[1] + delta_c\n",
        "                self.tiles[idx] = tile\n",
        "            # no change in any tile\n",
        "            if flag == 0:\n",
        "                break"
      ],
      "execution_count": null,
      "outputs": []
    },
    {
      "cell_type": "code",
      "metadata": {
        "id": "buiE9CJuyLfu"
      },
      "source": [
        "def create_random_moves(moves_length):\n",
        "    seq = ['U', 'D', 'L', 'R']\n",
        "    moves = ''.join(random.choices(seq, k=moves_length))\n",
        "    return moves"
      ],
      "execution_count": null,
      "outputs": []
    },
    {
      "cell_type": "code",
      "metadata": {
        "colab": {
          "base_uri": "https://localhost:8080/"
        },
        "id": "-Hvbe667yOoX",
        "outputId": "f3fa914c-65aa-4eed-9e42-6de9fe0c7bee"
      },
      "source": [
        "solved = 0\n",
        "moves_length = 1000\n",
        "lst = sorted(os.listdir(DATA_PATH))\n",
        "total = len(lst)\n",
        "df = pd.DataFrame(columns = {'filename', 'moves'})\n",
        "\n",
        "for file in tqdm.tqdm(lst):\n",
        "  path = os.path.join(DATA_PATH, file)\n",
        "  obj = GridState(path)\n",
        "  moves = create_random_moves(moves_length)\n",
        "  for direction in moves:\n",
        "      obj.move(direction)\n",
        "      if obj.tiles == obj.targets:\n",
        "          # print(obj.tiles, obj.targets)\n",
        "          solved += 1\n",
        "          # print(\"Puzzle Solved\")\n",
        "          break\n",
        "  df = df.append({'filename':file, 'moves': moves}, ignore_index = True)"
      ],
      "execution_count": null,
      "outputs": [
        {
          "output_type": "stream",
          "text": [
            "100%|██████████| 2000/2000 [01:28<00:00, 22.72it/s]\n"
          ],
          "name": "stderr"
        }
      ]
    },
    {
      "cell_type": "code",
      "metadata": {
        "colab": {
          "base_uri": "https://localhost:8080/",
          "height": 195
        },
        "id": "3zbnVoNGyThc",
        "outputId": "daab3282-ebf7-442f-85f0-f6a040f3c723"
      },
      "source": [
        "df.head()"
      ],
      "execution_count": null,
      "outputs": [
        {
          "output_type": "execute_result",
          "data": {
            "text/html": [
              "<div>\n",
              "<style scoped>\n",
              "    .dataframe tbody tr th:only-of-type {\n",
              "        vertical-align: middle;\n",
              "    }\n",
              "\n",
              "    .dataframe tbody tr th {\n",
              "        vertical-align: top;\n",
              "    }\n",
              "\n",
              "    .dataframe thead th {\n",
              "        text-align: right;\n",
              "    }\n",
              "</style>\n",
              "<table border=\"1\" class=\"dataframe\">\n",
              "  <thead>\n",
              "    <tr style=\"text-align: right;\">\n",
              "      <th></th>\n",
              "      <th>filename</th>\n",
              "      <th>moves</th>\n",
              "    </tr>\n",
              "  </thead>\n",
              "  <tbody>\n",
              "    <tr>\n",
              "      <th>0</th>\n",
              "      <td>0001.txt</td>\n",
              "      <td>DDURDDRRUURDLDLLUDULDLUDRUULDRUDLRDRDRRDDUDDDL...</td>\n",
              "    </tr>\n",
              "    <tr>\n",
              "      <th>1</th>\n",
              "      <td>0002.txt</td>\n",
              "      <td>DRDDDLULLLLRUURRLRUUDRLLUDULLDDURRDLURLRURUDRR...</td>\n",
              "    </tr>\n",
              "    <tr>\n",
              "      <th>2</th>\n",
              "      <td>0003.txt</td>\n",
              "      <td>LDRURDLUDURDLDRRUURDRDLLLDURUURDUDDLRLLRUUUURU...</td>\n",
              "    </tr>\n",
              "    <tr>\n",
              "      <th>3</th>\n",
              "      <td>0004.txt</td>\n",
              "      <td>RUUUULDDRDRRLDRRDRRRULUDUUUDRUDRLDUDLULLUUULDR...</td>\n",
              "    </tr>\n",
              "    <tr>\n",
              "      <th>4</th>\n",
              "      <td>0005.txt</td>\n",
              "      <td>LRDLRUURDURLDUDUULLRULRURDLLLDLLDRLDDULDRDRLDD...</td>\n",
              "    </tr>\n",
              "  </tbody>\n",
              "</table>\n",
              "</div>"
            ],
            "text/plain": [
              "   filename                                              moves\n",
              "0  0001.txt  DDURDDRRUURDLDLLUDULDLUDRUULDRUDLRDRDRRDDUDDDL...\n",
              "1  0002.txt  DRDDDLULLLLRUURRLRUUDRLLUDULLDDURRDLURLRURUDRR...\n",
              "2  0003.txt  LDRURDLUDURDLDRRUURDRDLLLDURUURDUDDLRLLRUUUURU...\n",
              "3  0004.txt  RUUUULDDRDRRLDRRDRRRULUDUUUDRUDRLDUDLULLUUULDR...\n",
              "4  0005.txt  LRDLRUURDURLDUDUULLRULRURDLLLDLLDRLDDULDRDRLDD..."
            ]
          },
          "metadata": {
            "tags": []
          },
          "execution_count": 11
        }
      ]
    },
    {
      "cell_type": "code",
      "metadata": {
        "colab": {
          "base_uri": "https://localhost:8080/"
        },
        "id": "cf9jHlPiyZM0",
        "outputId": "6b184449-01cc-4d0a-8fd8-1c6ce095ef94"
      },
      "source": [
        "print(\"Number of puzzles solved is :\" ,solved)\n",
        "print(\"Percentage of puzzles solved :\" , (solved/total)*100)"
      ],
      "execution_count": null,
      "outputs": [
        {
          "output_type": "stream",
          "text": [
            "Number of puzzles solved is : 411\n",
            "Percentage of puzzles solved : 20.549999999999997\n"
          ],
          "name": "stdout"
        }
      ]
    },
    {
      "cell_type": "code",
      "metadata": {
        "id": "MMdHbzquyZBp"
      },
      "source": [
        "submission = pd.DataFrame(df)\n",
        "submission.to_csv('submission.csv',index=False)"
      ],
      "execution_count": null,
      "outputs": []
    },
    {
      "cell_type": "code",
      "metadata": {
        "id": "AQTU_vT0y5F9"
      },
      "source": [
        ""
      ],
      "execution_count": null,
      "outputs": []
    }
  ]
}