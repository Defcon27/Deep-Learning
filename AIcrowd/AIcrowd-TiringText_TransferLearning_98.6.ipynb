{
 "cells": [
  {
   "cell_type": "code",
   "execution_count": null,
   "metadata": {
    "id": "kfV7NchE8GBM"
   },
   "outputs": [],
   "source": [
    "import sys\n",
    "!pip install git+https://gitlab.aicrowd.com/aicrowd/aicrowd-cli.git >/dev/null\n",
    "%load_ext aicrowd.magic"
   ]
  },
  {
   "cell_type": "code",
   "execution_count": 4,
   "metadata": {
    "id": "FZxLLs0f8wsM"
   },
   "outputs": [],
   "source": [
    "%reload_ext aicrowd.magic"
   ]
  },
  {
   "cell_type": "code",
   "execution_count": 5,
   "metadata": {
    "colab": {
     "base_uri": "https://localhost:8080/"
    },
    "id": "jMoglkkR850O",
    "outputId": "5b6a628c-b10a-4e50-ee44-4867e1191ba3"
   },
   "outputs": [
    {
     "name": "stdout",
     "output_type": "stream",
     "text": [
      "\u001b[32mAPI Key valid\u001b[0m\n",
      "\u001b[32mSaved API Key successfully!\u001b[0m\n"
     ]
    }
   ],
   "source": [
    "API_KEY = \"906daefa5cd971fd9e089a213054d8ed\"\n",
    "%aicrowd login --api-key $API_KEY"
   ]
  },
  {
   "cell_type": "code",
   "execution_count": 4,
   "metadata": {
    "colab": {
     "base_uri": "https://localhost:8080/",
     "height": 300,
     "referenced_widgets": [
      "dabe197b5c5644278bb6a10fe79fb83c",
      "b1337e0ec2e2421fb5e208ab731f7d81",
      "162c78673b124653b366c4438206c70c",
      "c5f3ab6833d14827816598c6815e438f",
      "febff897564f4c4eb46b66a252b45b41",
      "a7b25e5c57f04539add82add4018e59b",
      "fedc39e02e844bfc8791e93d5294946d",
      "aebae68180d84c4798eebeb09058b709",
      "b7af76520e814cf3b2120ec51edd06b0",
      "71d02516922e4767ba08a573078d1ca5",
      "3b8f2d6a63d7415d95c5d44cbeeb7ebf",
      "f88557616a5c4195a5937c98a47acd84",
      "d233d1e271da40f2bb43828fcfbd7431",
      "c86f92acf5774db4815a988561d98c97",
      "6be6b77798d24dfc978087b7741c6db1",
      "70930514606a48fda426cd118fb223e6",
      "640351b3f5264705a832660623acfd60",
      "c5db77d22d2d41b7979acb1fd9abba64",
      "373ea85767ba40ebabd3cd1d7cea9042",
      "ea3195680f474c8598cfaeb0dcd3e3a9",
      "61c1e13546f446c2be45e3f3098739da",
      "3d6c9efcf3224d8995cd4bda1942aa30",
      "042b9189ab574e5db6bbb17e4278b752",
      "b4dea0b107ce412085099f0e08fa738d"
     ]
    },
    "id": "Jg8k6pyg9PQp",
    "outputId": "1de43a2f-5fab-4e5d-deae-36cdd0e72ebc"
   },
   "outputs": [
    {
     "name": "stdout",
     "output_type": "stream",
     "text": [
      "              Datasets for challenge #748                                       \n",
      "┌───┬───────────────────────┬─────────────┬───────────┐                         \n",
      "│ # │ Title                 │ Description │      Size │                         \n",
      "├───┼───────────────────────┼─────────────┼───────────┤                         \n",
      "│ 0 │ sample_submission.csv │ -           │ 136.43 KB │                         \n",
      "│ 1 │ test.csv              │ -           │  10.10 MB │                         \n",
      "│ 2 │ train.csv             │ -           │  40.85 MB │                         \n",
      "└───┴───────────────────────┴─────────────┴───────────┘                         \n"
     ]
    },
    {
     "data": {
      "application/vnd.jupyter.widget-view+json": {
       "model_id": "dabe197b5c5644278bb6a10fe79fb83c",
       "version_major": 2,
       "version_minor": 0
      },
      "text/plain": [
       "HBox(children=(FloatProgress(value=0.0, description='train.csv', max=40848154.0, style=ProgressStyle(descripti…"
      ]
     },
     "metadata": {
      "tags": []
     },
     "output_type": "display_data"
    },
    {
     "data": {
      "application/vnd.jupyter.widget-view+json": {
       "model_id": "b7af76520e814cf3b2120ec51edd06b0",
       "version_major": 2,
       "version_minor": 0
      },
      "text/plain": [
       "HBox(children=(FloatProgress(value=0.0, description='sample_submission.csv', max=136432.0, style=ProgressStyle…"
      ]
     },
     "metadata": {
      "tags": []
     },
     "output_type": "display_data"
    },
    {
     "name": "stdout",
     "output_type": "stream",
     "text": [
      "\n"
     ]
    },
    {
     "data": {
      "application/vnd.jupyter.widget-view+json": {
       "model_id": "640351b3f5264705a832660623acfd60",
       "version_major": 2,
       "version_minor": 0
      },
      "text/plain": [
       "HBox(children=(FloatProgress(value=0.0, description='test.csv', max=10099240.0, style=ProgressStyle(descriptio…"
      ]
     },
     "metadata": {
      "tags": []
     },
     "output_type": "display_data"
    },
    {
     "name": "stdout",
     "output_type": "stream",
     "text": [
      "\n",
      "\n"
     ]
    }
   ],
   "source": [
    "%aicrowd dataset list -c tiring-text\n",
    "%aicrowd dataset download -c tiring-text -j 3"
   ]
  },
  {
   "cell_type": "code",
   "execution_count": 6,
   "metadata": {
    "id": "mnwlCrdr9V6g"
   },
   "outputs": [],
   "source": [
    "import numpy as np\n",
    "import pandas as pd\n",
    "import matplotlib.pyplot as plt\n",
    "import seaborn as sns\n",
    "\n",
    "import tensorflow as tf\n",
    "import tensorflow_hub as hub"
   ]
  },
  {
   "cell_type": "code",
   "execution_count": 7,
   "metadata": {
    "colab": {
     "base_uri": "https://localhost:8080/",
     "height": 419
    },
    "id": "uNwNXCjL9pkz",
    "outputId": "d5c9cfa3-06f8-487b-8bf2-dc9c6090a64c"
   },
   "outputs": [
    {
     "data": {
      "text/html": [
       "<div>\n",
       "<style scoped>\n",
       "    .dataframe tbody tr th:only-of-type {\n",
       "        vertical-align: middle;\n",
       "    }\n",
       "\n",
       "    .dataframe tbody tr th {\n",
       "        vertical-align: top;\n",
       "    }\n",
       "\n",
       "    .dataframe thead th {\n",
       "        text-align: right;\n",
       "    }\n",
       "</style>\n",
       "<table border=\"1\" class=\"dataframe\">\n",
       "  <thead>\n",
       "    <tr style=\"text-align: right;\">\n",
       "      <th></th>\n",
       "      <th>text</th>\n",
       "      <th>tag</th>\n",
       "    </tr>\n",
       "  </thead>\n",
       "  <tbody>\n",
       "    <tr>\n",
       "      <th>0</th>\n",
       "      <td>. CHIEF JUSTICE ROBERTS , JUSTICE PRYOR . JUST...</td>\n",
       "      <td>news</td>\n",
       "    </tr>\n",
       "    <tr>\n",
       "      <th>1</th>\n",
       "      <td>want this pawn like not even to exist because ...</td>\n",
       "      <td>chess</td>\n",
       "    </tr>\n",
       "    <tr>\n",
       "      <th>2</th>\n",
       "      <td>? If I was n't already at that URL , where mig...</td>\n",
       "      <td>programming</td>\n",
       "    </tr>\n",
       "    <tr>\n",
       "      <th>3</th>\n",
       "      <td>a power is 3x squared the derivative of positi...</td>\n",
       "      <td>math</td>\n",
       "    </tr>\n",
       "    <tr>\n",
       "      <th>4</th>\n",
       "      <td>Knight to f2 check and the White King has no m...</td>\n",
       "      <td>chess</td>\n",
       "    </tr>\n",
       "    <tr>\n",
       "      <th>...</th>\n",
       "      <td>...</td>\n",
       "      <td>...</td>\n",
       "    </tr>\n",
       "    <tr>\n",
       "      <th>79371</th>\n",
       "      <td>to watch the live streams follow on twitch lin...</td>\n",
       "      <td>chess</td>\n",
       "    </tr>\n",
       "    <tr>\n",
       "      <th>79372</th>\n",
       "      <td>WHO IS HE GOING TO GET TO PROSECUTE IT ? HE BR...</td>\n",
       "      <td>news</td>\n",
       "    </tr>\n",
       "    <tr>\n",
       "      <th>79373</th>\n",
       "      <td>is you 're not fighting on the right side of t...</td>\n",
       "      <td>chess</td>\n",
       "    </tr>\n",
       "    <tr>\n",
       "      <th>79374</th>\n",
       "      <td>about the MacBook if you were n't already goin...</td>\n",
       "      <td>tech</td>\n",
       "    </tr>\n",
       "    <tr>\n",
       "      <th>79375</th>\n",
       "      <td>seeds and yam got the mess all over your board...</td>\n",
       "      <td>food</td>\n",
       "    </tr>\n",
       "  </tbody>\n",
       "</table>\n",
       "<p>79376 rows × 2 columns</p>\n",
       "</div>"
      ],
      "text/plain": [
       "                                                    text          tag\n",
       "0      . CHIEF JUSTICE ROBERTS , JUSTICE PRYOR . JUST...         news\n",
       "1      want this pawn like not even to exist because ...        chess\n",
       "2      ? If I was n't already at that URL , where mig...  programming\n",
       "3      a power is 3x squared the derivative of positi...         math\n",
       "4      Knight to f2 check and the White King has no m...        chess\n",
       "...                                                  ...          ...\n",
       "79371  to watch the live streams follow on twitch lin...        chess\n",
       "79372  WHO IS HE GOING TO GET TO PROSECUTE IT ? HE BR...         news\n",
       "79373  is you 're not fighting on the right side of t...        chess\n",
       "79374  about the MacBook if you were n't already goin...         tech\n",
       "79375  seeds and yam got the mess all over your board...         food\n",
       "\n",
       "[79376 rows x 2 columns]"
      ]
     },
     "execution_count": 7,
     "metadata": {
      "tags": []
     },
     "output_type": "execute_result"
    }
   ],
   "source": [
    "df = pd.read_csv(\"train.csv\")\n",
    "df"
   ]
  },
  {
   "cell_type": "code",
   "execution_count": 8,
   "metadata": {
    "colab": {
     "base_uri": "https://localhost:8080/",
     "height": 350
    },
    "id": "SQzXB_iI9xG1",
    "outputId": "4ef79511-3ecf-4a98-b0ab-de14d25134b5"
   },
   "outputs": [
    {
     "name": "stderr",
     "output_type": "stream",
     "text": [
      "/usr/local/lib/python3.7/dist-packages/seaborn/_decorators.py:43: FutureWarning: Pass the following variable as a keyword arg: x. From version 0.12, the only valid positional argument will be `data`, and passing other arguments without an explicit keyword will result in an error or misinterpretation.\n",
      "  FutureWarning\n"
     ]
    },
    {
     "data": {
      "text/plain": [
       "<matplotlib.axes._subplots.AxesSubplot at 0x7f17235353d0>"
      ]
     },
     "execution_count": 8,
     "metadata": {
      "tags": []
     },
     "output_type": "execute_result"
    },
    {
     "data": {
      "image/png": "[encoded data removed]",
      "text/plain": [
       "<Figure size 432x288 with 1 Axes>"
      ]
     },
     "metadata": {
      "needs_background": "light",
      "tags": []
     },
     "output_type": "display_data"
    }
   ],
   "source": [
    "sns.countplot(df['tag'])"
   ]
  },
  {
   "cell_type": "code",
   "execution_count": 9,
   "metadata": {
    "colab": {
     "base_uri": "https://localhost:8080/"
    },
    "id": "ylFL8C6nKX0P",
    "outputId": "3d4a54dc-5d0d-4423-f025-c25b5890845f"
   },
   "outputs": [
    {
     "name": "stdout",
     "output_type": "stream",
     "text": [
      "(78582,)\n",
      "(78582,)\n",
      "(794,)\n",
      "(794,)\n"
     ]
    }
   ],
   "source": [
    "from sklearn.model_selection import train_test_split\n",
    "from sklearn.preprocessing import LabelEncoder\n",
    "\n",
    "train_df = pd.read_csv(\"train.csv\")\n",
    "X = train_df[\"text\"]\n",
    "\n",
    "le = LabelEncoder()\n",
    "Y = le.fit_transform(train_df[\"tag\"])\n",
    "\n",
    "X_train, X_test ,Y_train, Y_test = train_test_split(X, Y, test_size=0.01)\n",
    "\n",
    "print(X_train.shape)\n",
    "print(Y_train.shape)\n",
    "\n",
    "print(X_test.shape)\n",
    "print(Y_test.shape)"
   ]
  },
  {
   "cell_type": "code",
   "execution_count": 10,
   "metadata": {
    "colab": {
     "base_uri": "https://localhost:8080/"
    },
    "id": "v5Drv-J4Ru7W",
    "outputId": "ecc20076-db2d-4006-d652-9d45ee28f8d1"
   },
   "outputs": [
    {
     "name": "stdout",
     "output_type": "stream",
     "text": [
      "(78582, 8)\n",
      "(794, 8)\n"
     ]
    }
   ],
   "source": [
    "from keras.utils import to_categorical\n",
    "\n",
    "Y_train_cat = to_categorical(Y_train)\n",
    "Y_test_cat = to_categorical(Y_test)\n",
    "\n",
    "print(Y_train_cat.shape)\n",
    "print(Y_test_cat.shape)"
   ]
  },
  {
   "cell_type": "code",
   "execution_count": 11,
   "metadata": {
    "colab": {
     "base_uri": "https://localhost:8080/"
    },
    "id": "GYv3iuZDKi49",
    "outputId": "cda60d5a-8d95-4e0d-a725-c6c8e4e0c91c"
   },
   "outputs": [
    {
     "name": "stdout",
     "output_type": "stream",
     "text": [
      "Model: \"sequential\"\n",
      "_________________________________________________________________\n",
      "Layer (type)                 Output Shape              Param #   \n",
      "=================================================================\n",
      "keras_layer (KerasLayer)     (None, 512)               147354880 \n",
      "_________________________________________________________________\n",
      "dense (Dense)                (None, 512)               262656    \n",
      "_________________________________________________________________\n",
      "dropout (Dropout)            (None, 512)               0         \n",
      "_________________________________________________________________\n",
      "dense_1 (Dense)              (None, 128)               65664     \n",
      "_________________________________________________________________\n",
      "dropout_1 (Dropout)          (None, 128)               0         \n",
      "_________________________________________________________________\n",
      "dense_2 (Dense)              (None, 32)                4128      \n",
      "_________________________________________________________________\n",
      "dropout_2 (Dropout)          (None, 32)                0         \n",
      "_________________________________________________________________\n",
      "dense_3 (Dense)              (None, 8)                 264       \n",
      "=================================================================\n",
      "Total params: 147,687,592\n",
      "Trainable params: 147,687,592\n",
      "Non-trainable params: 0\n",
      "_________________________________________________________________\n"
     ]
    }
   ],
   "source": [
    "# TL Model\n",
    "import keras\n",
    "from keras.models import Sequential\n",
    "from keras.layers import Dropout, Dense\n",
    "\n",
    "\n",
    "model = Sequential()\n",
    "\n",
    "module_url = \"https://tfhub.dev/google/universal-sentence-encoder-large/5\"\n",
    "embed_size=512\n",
    "trainable = True\n",
    "hub_layer = hub.KerasLayer(module_url, input_shape=[], output_shape=[embed_size], dtype=tf.string, trainable=trainable)\n",
    "\n",
    "model.add(hub_layer)\n",
    "model.add(Dense(512, activation=\"relu\"))\n",
    "model.add(Dropout(0.3))\n",
    "model.add(Dense(128, activation=\"relu\"))\n",
    "model.add(Dropout(0.3))\n",
    "model.add(Dense(32, activation=\"relu\"))\n",
    "model.add(Dropout(0.3))\n",
    "model.add(Dense(8, activation=\"softmax\"))\n",
    "\n",
    "\n",
    "model.compile(optimizer=tf.keras.optimizers.Adam(learning_rate=0.0001), \n",
    "                  loss=tf.losses.BinaryCrossentropy(),\n",
    "                  metrics=[tf.metrics.BinaryAccuracy(name=\"accuracy\")])\n",
    "\n",
    "model.summary()"
   ]
  },
  {
   "cell_type": "code",
   "execution_count": 12,
   "metadata": {
    "colab": {
     "base_uri": "https://localhost:8080/"
    },
    "id": "Mx2IXbDcMt-g",
    "outputId": "f43ad26f-9a6d-49d6-8e6f-e2db76431e18"
   },
   "outputs": [
    {
     "name": "stdout",
     "output_type": "stream",
     "text": [
      "Epoch 1/6\n",
      "614/614 [==============================] - 526s 774ms/step - loss: 0.4052 - accuracy: 0.9046 - val_loss: 0.0318 - val_accuracy: 0.9951\n",
      "Epoch 2/6\n",
      "614/614 [==============================] - 471s 767ms/step - loss: 0.0734 - accuracy: 0.9879 - val_loss: 0.0163 - val_accuracy: 0.9954\n",
      "Epoch 3/6\n",
      "614/614 [==============================] - 471s 766ms/step - loss: 0.0340 - accuracy: 0.9949 - val_loss: 0.0164 - val_accuracy: 0.9953\n",
      "Epoch 4/6\n",
      " 53/614 [=>............................] - ETA: 7:10 - loss: 0.0199 - accuracy: 0.9972"
     ]
    },
    {
     "name": "stderr",
     "output_type": "stream",
     "text": [
      "╭───────────────────── Traceback (most recent call last) ──────────────────────╮\n",
      "│ /usr/local/lib/python3.7/dist-packages/IPython/core/interactiveshell.py:2882 │\n",
      "│ in run_code                                                                  │\n",
      "│                                                                              │\n",
      "│   2879 │   │   │   try:                                                      │\n",
      "│   2880 │   │   │   │   self.hooks.pre_run_code_hook()                        │\n",
      "│   2881 │   │   │   │   #rprint('Running code', repr(code_obj)) # dbg         │\n",
      "│ ❱ 2882 │   │   │   │   exec(code_obj, self.user_global_ns, self.user_ns)     │\n",
      "│   2883 │   │   │   finally:                                                  │\n",
      "│   2884 │   │   │   │   # Reset our crash handler in place                    │\n",
      "│   2885 │   │   │   │   sys.excepthook = old_excepthook                       │\n",
      "│ <ipython-input-12-caacbf30105c>:7 in <module>                                │\n",
      "│                                                                              │\n",
      "│ /usr/local/lib/python3.7/dist-packages/tensorflow/python/keras/engine/traini │\n",
      "│ ng.py:1100 in fit                                                            │\n",
      "│                                                                              │\n",
      "│   1097 │   │   │   │   batch_size=batch_size,                                │\n",
      "│   1098 │   │   │   │   _r=1):                                                │\n",
      "│   1099 │   │   │     callbacks.on_train_batch_begin(step)                    │\n",
      "│ ❱ 1100 │   │   │     tmp_logs = self.train_function(iterator)                │\n",
      "│   1101 │   │   │     if data_handler.should_sync:                            │\n",
      "│   1102 │   │   │   │   context.async_wait()                                  │\n",
      "│   1103 │   │   │     logs = tmp_logs  # No error, now safe to assign to logs │\n",
      "│                                                                              │\n",
      "│ /usr/local/lib/python3.7/dist-packages/tensorflow/python/eager/def_function. │\n",
      "│ py:828 in __call__                                                           │\n",
      "│                                                                              │\n",
      "│    825 │                                                                     │\n",
      "│    826 │   tracing_count = self.experimental_get_tracing_count()             │\n",
      "│    827 │   with trace.Trace(self._name) as tm:                               │\n",
      "│ ❱  828 │     result = self._call(*args, **kwds)                              │\n",
      "│    829 │     compiler = \"xla\" if self._experimental_compile else \"nonXla\"    │\n",
      "│    830 │     new_tracing_count = self.experimental_get_tracing_count()       │\n",
      "│    831 │     without_tracing = (tracing_count == new_tracing_count)          │\n",
      "│                                                                              │\n",
      "│ /usr/local/lib/python3.7/dist-packages/tensorflow/python/eager/def_function. │\n",
      "│ py:855 in _call                                                              │\n",
      "│                                                                              │\n",
      "│    852 │     self._lock.release()                                            │\n",
      "│    853 │     # In this case we have created variables on the first call, so  │\n",
      "│    854 │     # defunned version which is guaranteed to never create variable │\n",
      "│ ❱  855 │     return self._stateless_fn(*args, **kwds)  # pylint: disable=not │\n",
      "│    856 │   elif self._stateful_fn is not None:                               │\n",
      "│    857 │     # Release the lock early so that multiple threads can perform t │\n",
      "│    858 │     # in parallel.                                                  │\n",
      "│                                                                              │\n",
      "│ /usr/local/lib/python3.7/dist-packages/tensorflow/python/eager/function.py:2 │\n",
      "│ 943 in __call__                                                              │\n",
      "│                                                                              │\n",
      "│   2940 │     (graph_function,                                                │\n",
      "│   2941 │      filtered_flat_args) = self._maybe_define_function(args, kwargs │\n",
      "│   2942 │   return graph_function._call_flat(                                 │\n",
      "│ ❱ 2943 │   │   filtered_flat_args, captured_inputs=graph_function.captured_i │\n",
      "│   2944                                                                       │\n",
      "│   2945   @property                                                           │\n",
      "│   2946   def python_function(self):                                          │\n",
      "│                                                                              │\n",
      "│ /usr/local/lib/python3.7/dist-packages/tensorflow/python/eager/function.py:1 │\n",
      "│ 919 in _call_flat                                                            │\n",
      "│                                                                              │\n",
      "│   1916 │   │   and executing_eagerly):                                       │\n",
      "│   1917 │     # No tape is watching; skip to running the function.            │\n",
      "│   1918 │     return self._build_call_outputs(self._inference_function.call(  │\n",
      "│ ❱ 1919 │   │     ctx, args, cancellation_manager=cancellation_manager))      │\n",
      "│   1920 │   forward_backward = self._select_forward_and_backward_functions(   │\n",
      "│   1921 │   │   args,                                                         │\n",
      "│   1922 │   │   possible_gradient_type,                                       │\n",
      "│                                                                              │\n",
      "│ /usr/local/lib/python3.7/dist-packages/tensorflow/python/eager/function.py:5 │\n",
      "│ 60 in call                                                                   │\n",
      "│                                                                              │\n",
      "│    557 │   │   │     num_outputs=self._num_outputs,                          │\n",
      "│    558 │   │   │     inputs=args,                                            │\n",
      "│    559 │   │   │     attrs=attrs,                                            │\n",
      "│ ❱  560 │   │   │     ctx=ctx)                                                │\n",
      "│    561 │   │   else:                                                         │\n",
      "│    562 │   │     outputs = execute.execute_with_cancellation(                │\n",
      "│    563 │   │   │     str(self.signature.name),                               │\n",
      "│                                                                              │\n",
      "│ /usr/local/lib/python3.7/dist-packages/tensorflow/python/eager/execute.py:60 │\n",
      "│ in quick_execute                                                             │\n",
      "│                                                                              │\n",
      "│    57   try:                                                                 │\n",
      "│    58 │   ctx.ensure_initialized()                                           │\n",
      "│    59 │   tensors = pywrap_tfe.TFE_Py_Execute(ctx._handle, device_name, op_n │\n",
      "│ ❱  60 │   │   │   │   │   │   │   │   │   │   inputs, attrs, num_outputs)    │\n",
      "│    61   except core._NotOkStatusException as e:                              │\n",
      "│    62 │   if name is not None:                                               │\n",
      "│    63 │     message = e.message + \" name: \" + name                           │\n",
      "╰──────────────────────────────────────────────────────────────────────────────╯\n",
      "KeyboardInterrupt: \n"
     ]
    }
   ],
   "source": [
    "epochs=6\n",
    "batch_size=128\n",
    "\n",
    "hist = model.fit(X_train, Y_train_cat,\n",
    "          epochs=epochs, batch_size=batch_size,\n",
    "          validation_data = (X_test, Y_test_cat),\n",
    "          verbose=1)"
   ]
  },
  {
   "cell_type": "code",
   "execution_count": 13,
   "metadata": {
    "colab": {
     "base_uri": "https://localhost:8080/"
    },
    "id": "9bAarNTTg_kZ",
    "outputId": "0f74a91a-f4d8-47e6-9f21-296ad1994340"
   },
   "outputs": [
    {
     "name": "stdout",
     "output_type": "stream",
     "text": [
      "25/25 [==============================] - 2s 84ms/step - loss: 0.0171 - accuracy: 0.9964\n"
     ]
    },
    {
     "data": {
      "text/plain": [
       "[0.017062341794371605, 0.9963790774345398]"
      ]
     },
     "execution_count": 13,
     "metadata": {
      "tags": []
     },
     "output_type": "execute_result"
    }
   ],
   "source": [
    "model.evaluate(X_test, Y_test_cat)"
   ]
  },
  {
   "cell_type": "code",
   "execution_count": null,
   "metadata": {
    "id": "qY5s1zjnrFtU"
   },
   "outputs": [],
   "source": [
    "hist"
   ]
  },
  {
   "cell_type": "code",
   "execution_count": null,
   "metadata": {
    "id": "-noYvp93VWmc"
   },
   "outputs": [],
   "source": [
    "metrics = pd.DataFrame(model.history.history)\n",
    "metrics[[\"loss\",\"val_loss\"]].plot()"
   ]
  },
  {
   "cell_type": "code",
   "execution_count": null,
   "metadata": {
    "colab": {
     "base_uri": "https://localhost:8080/",
     "height": 282
    },
    "id": "UBOw0a3VdoJY",
    "outputId": "a5513d25-8ceb-4a29-8fed-88e08eda29bb"
   },
   "outputs": [
    {
     "data": {
      "text/plain": [
       "<matplotlib.axes._subplots.AxesSubplot at 0x7f67660cec90>"
      ]
     },
     "execution_count": 39,
     "metadata": {
      "tags": []
     },
     "output_type": "execute_result"
    },
    {
     "data": {
      "image/png": "[encoded data removed]",
      "text/plain": [
       "<Figure size 432x288 with 1 Axes>"
      ]
     },
     "metadata": {
      "needs_background": "light",
      "tags": []
     },
     "output_type": "display_data"
    }
   ],
   "source": [
    "metrics[[\"accuracy\",\"val_accuracy\"]].plot()"
   ]
  },
  {
   "cell_type": "code",
   "execution_count": null,
   "metadata": {
    "colab": {
     "base_uri": "https://localhost:8080/"
    },
    "id": "v6EJa1dTlnQO",
    "outputId": "0cb49fff-09e2-416f-d4ae-7dc5047cae04"
   },
   "outputs": [
    {
     "name": "stderr",
     "output_type": "stream",
     "text": [
      "/usr/local/lib/python3.7/dist-packages/tensorflow/python/keras/engine/sequential.py:450: UserWarning: `model.predict_classes()` is deprecated and will be removed after 2021-01-01. Please use instead:* `np.argmax(model.predict(x), axis=-1)`,   if your model does multi-class classification   (e.g. if it uses a `softmax` last-layer activation).* `(model.predict(x) > 0.5).astype(\"int32\")`,   if your model does binary classification   (e.g. if it uses a `sigmoid` last-layer activation).\n",
      "  warnings.warn('`model.predict_classes()` is deprecated and '\n"
     ]
    },
    {
     "name": "stdout",
     "output_type": "stream",
     "text": [
      "              precision    recall  f1-score   support\n",
      "\n",
      "           0       1.00      1.00      1.00     13202\n",
      "           1       1.00      1.00      1.00     11245\n",
      "           2       1.00      1.00      1.00     16337\n",
      "           3       0.99      0.99      0.99      4560\n",
      "           4       1.00      1.00      1.00     16216\n",
      "           5       1.00      0.99      0.99     10038\n",
      "           6       0.99      0.99      0.99      5859\n",
      "           7       0.98      1.00      0.99      1911\n",
      "\n",
      "    accuracy                           1.00     79368\n",
      "   macro avg       0.99      1.00      0.99     79368\n",
      "weighted avg       1.00      1.00      1.00     79368\n",
      "\n"
     ]
    }
   ],
   "source": [
    "from sklearn.metrics import classification_report, confusion_matrix\n",
    "\n",
    "predictions = model.predict_classes(X_train)\n",
    "print(classification_report(Y_train, predictions))"
   ]
  },
  {
   "cell_type": "code",
   "execution_count": null,
   "metadata": {
    "colab": {
     "base_uri": "https://localhost:8080/",
     "height": 374
    },
    "id": "FeHJUTX9ln2_",
    "outputId": "61985233-cbfb-44eb-a49e-c2690754c3b9"
   },
   "outputs": [
    {
     "data": {
      "image/png": "[encoded data removed]",
      "text/plain": [
       "<Figure size 432x432 with 2 Axes>"
      ]
     },
     "metadata": {
      "needs_background": "light",
      "tags": []
     },
     "output_type": "display_data"
    }
   ],
   "source": [
    "plt.figure(figsize=(6,6))\n",
    "mat = confusion_matrix(Y_train, predictions)\n",
    "sns.heatmap(mat, annot=True)\n",
    "plt.show()"
   ]
  },
  {
   "cell_type": "code",
   "execution_count": 19,
   "metadata": {
    "colab": {
     "base_uri": "https://localhost:8080/"
    },
    "id": "qHU6yZFverHu",
    "outputId": "25394a19-6fff-47ad-927c-4cb32655bea5"
   },
   "outputs": [
    {
     "name": "stderr",
     "output_type": "stream",
     "text": [
      "/usr/local/lib/python3.7/dist-packages/tensorflow/python/keras/engine/sequential.py:450: UserWarning: `model.predict_classes()` is deprecated and will be removed after 2021-01-01. Please use instead:* `np.argmax(model.predict(x), axis=-1)`,   if your model does multi-class classification   (e.g. if it uses a `softmax` last-layer activation).* `(model.predict(x) > 0.5).astype(\"int32\")`,   if your model does binary classification   (e.g. if it uses a `sigmoid` last-layer activation).\n",
      "  warnings.warn('`model.predict_classes()` is deprecated and '\n"
     ]
    }
   ],
   "source": [
    "sub_df = pd.read_csv(\"test.csv\")\n",
    "\n",
    "X_sub = sub_df[\"text\"]\n",
    "Y_sub = model.predict_classes(X_sub)"
   ]
  },
  {
   "cell_type": "code",
   "execution_count": 20,
   "metadata": {
    "id": "0SBB63ArfmL5"
   },
   "outputs": [],
   "source": [
    "sub = le.inverse_transform(Y_sub)\n",
    "submission = pd.DataFrame()\n",
    "submission[\"tag\"] = sub\n",
    "submission.to_csv(\"tiring_submission_ft2.csv\")"
   ]
  },
  {
   "cell_type": "code",
   "execution_count": 21,
   "metadata": {
    "id": "gNMjI9QafuvS"
   },
   "outputs": [],
   "source": [
    "submission.to_csv('submission.csv', index=False)"
   ]
  },
  {
   "cell_type": "code",
   "execution_count": 22,
   "metadata": {
    "colab": {
     "base_uri": "https://localhost:8080/",
     "height": 306,
     "referenced_widgets": [
      "a954e13213c7403cb3c551a1c2f27aa6",
      "6933bceff0424f4ba7e97a674d24d911"
     ]
    },
    "id": "LNgakR0jpxy9",
    "outputId": "5340ee8a-0a6f-4875-8006-f7db76be1d7d"
   },
   "outputs": [
    {
     "data": {
      "application/vnd.jupyter.widget-view+json": {
       "model_id": "a954e13213c7403cb3c551a1c2f27aa6",
       "version_major": 2,
       "version_minor": 0
      },
      "text/plain": [
       "Output()"
      ]
     },
     "metadata": {
      "tags": []
     },
     "output_type": "display_data"
    },
    {
     "name": "stdout",
     "output_type": "stream",
     "text": [
      "                                       ╭─────────────────────────╮                                       \n",
      "                                       │ Successfully submitted! │                                       \n",
      "                                       ╰─────────────────────────╯                                       \n",
      "                                             Important links                                             \n",
      "┌──────────────────┬────────────────────────────────────────────────────────────────────────────────────┐\n",
      "│  This submission │ https://www.aicrowd.com/challenges/ml-battleground/submissions/124444              │\n",
      "│                  │                                                                                    │\n",
      "│  All submissions │ https://www.aicrowd.com/challenges/ml-battleground/submissions?my_submissions=true │\n",
      "│                  │                                                                                    │\n",
      "│      Leaderboard │ https://www.aicrowd.com/challenges/ml-battleground/leaderboards                    │\n",
      "│                  │                                                                                    │\n",
      "│ Discussion forum │ https://discourse.aicrowd.com/c/ml-battleground                                    │\n",
      "│                  │                                                                                    │\n",
      "│   Challenge page │ https://www.aicrowd.com/challenges/ml-battleground                                 │\n",
      "└──────────────────┴────────────────────────────────────────────────────────────────────────────────────┘\n",
      "{'submission_id': 124444, 'created_at': '2021-03-03T09:11:46.525Z'}\n"
     ]
    }
   ],
   "source": [
    "%aicrowd submission create -c tiring-text -f submission.csv"
   ]
  },
  {
   "cell_type": "code",
   "execution_count": null,
   "metadata": {
    "id": "ACU7E3vsEe43"
   },
   "outputs": [],
   "source": []
  }
 ],
 "metadata": {
  "accelerator": "GPU",
  "colab": {
   "collapsed_sections": [],
   "name": "Tiring_Text_using_TL.ipynb",
   "provenance": []
  },
  "kernelspec": {
   "display_name": "Python 3",
   "language": "python",
   "name": "python3"
  },
  "language_info": {
   "codemirror_mode": {
    "name": "ipython",
    "version": 3
   },
   "file_extension": ".py",
   "mimetype": "text/x-python",
   "name": "python",
   "nbconvert_exporter": "python",
   "pygments_lexer": "ipython3",
   "version": "3.7.4"
  },
  "widgets": {
   "application/vnd.jupyter.widget-state+json": {
    "042b9189ab574e5db6bbb17e4278b752": {
     "model_module": "@jupyter-widgets/controls",
     "model_name": "DescriptionStyleModel",
     "state": {
      "_model_module": "@jupyter-widgets/controls",
      "_model_module_version": "1.5.0",
      "_model_name": "DescriptionStyleModel",
      "_view_count": null,
      "_view_module": "@jupyter-widgets/base",
      "_view_module_version": "1.2.0",
      "_view_name": "StyleView",
      "description_width": ""
     }
    },
    "162c78673b124653b366c4438206c70c": {
     "model_module": "@jupyter-widgets/controls",
     "model_name": "FloatProgressModel",
     "state": {
      "_dom_classes": [],
      "_model_module": "@jupyter-widgets/controls",
      "_model_module_version": "1.5.0",
      "_model_name": "FloatProgressModel",
      "_view_count": null,
      "_view_module": "@jupyter-widgets/controls",
      "_view_module_version": "1.5.0",
      "_view_name": "ProgressView",
      "bar_style": "success",
      "description": "train.csv: 100%",
      "description_tooltip": null,
      "layout": "IPY_MODEL_a7b25e5c57f04539add82add4018e59b",
      "max": 40848154,
      "min": 0,
      "orientation": "horizontal",
      "style": "IPY_MODEL_febff897564f4c4eb46b66a252b45b41",
      "value": 40848154
     }
    },
    "373ea85767ba40ebabd3cd1d7cea9042": {
     "model_module": "@jupyter-widgets/controls",
     "model_name": "FloatProgressModel",
     "state": {
      "_dom_classes": [],
      "_model_module": "@jupyter-widgets/controls",
      "_model_module_version": "1.5.0",
      "_model_name": "FloatProgressModel",
      "_view_count": null,
      "_view_module": "@jupyter-widgets/controls",
      "_view_module_version": "1.5.0",
      "_view_name": "ProgressView",
      "bar_style": "success",
      "description": "test.csv: 100%",
      "description_tooltip": null,
      "layout": "IPY_MODEL_3d6c9efcf3224d8995cd4bda1942aa30",
      "max": 10099240,
      "min": 0,
      "orientation": "horizontal",
      "style": "IPY_MODEL_61c1e13546f446c2be45e3f3098739da",
      "value": 10099240
     }
    },
    "3b8f2d6a63d7415d95c5d44cbeeb7ebf": {
     "model_module": "@jupyter-widgets/controls",
     "model_name": "FloatProgressModel",
     "state": {
      "_dom_classes": [],
      "_model_module": "@jupyter-widgets/controls",
      "_model_module_version": "1.5.0",
      "_model_name": "FloatProgressModel",
      "_view_count": null,
      "_view_module": "@jupyter-widgets/controls",
      "_view_module_version": "1.5.0",
      "_view_name": "ProgressView",
      "bar_style": "success",
      "description": "sample_submission.csv: 100%",
      "description_tooltip": null,
      "layout": "IPY_MODEL_c86f92acf5774db4815a988561d98c97",
      "max": 136432,
      "min": 0,
      "orientation": "horizontal",
      "style": "IPY_MODEL_d233d1e271da40f2bb43828fcfbd7431",
      "value": 136432
     }
    },
    "3d6c9efcf3224d8995cd4bda1942aa30": {
     "model_module": "@jupyter-widgets/base",
     "model_name": "LayoutModel",
     "state": {
      "_model_module": "@jupyter-widgets/base",
      "_model_module_version": "1.2.0",
      "_model_name": "LayoutModel",
      "_view_count": null,
      "_view_module": "@jupyter-widgets/base",
      "_view_module_version": "1.2.0",
      "_view_name": "LayoutView",
      "align_content": null,
      "align_items": null,
      "align_self": null,
      "border": null,
      "bottom": null,
      "display": null,
      "flex": null,
      "flex_flow": null,
      "grid_area": null,
      "grid_auto_columns": null,
      "grid_auto_flow": null,
      "grid_auto_rows": null,
      "grid_column": null,
      "grid_gap": null,
      "grid_row": null,
      "grid_template_areas": null,
      "grid_template_columns": null,
      "grid_template_rows": null,
      "height": null,
      "justify_content": null,
      "justify_items": null,
      "left": null,
      "margin": null,
      "max_height": null,
      "max_width": null,
      "min_height": null,
      "min_width": null,
      "object_fit": null,
      "object_position": null,
      "order": null,
      "overflow": null,
      "overflow_x": null,
      "overflow_y": null,
      "padding": null,
      "right": null,
      "top": null,
      "visibility": null,
      "width": null
     }
    },
    "61c1e13546f446c2be45e3f3098739da": {
     "model_module": "@jupyter-widgets/controls",
     "model_name": "ProgressStyleModel",
     "state": {
      "_model_module": "@jupyter-widgets/controls",
      "_model_module_version": "1.5.0",
      "_model_name": "ProgressStyleModel",
      "_view_count": null,
      "_view_module": "@jupyter-widgets/base",
      "_view_module_version": "1.2.0",
      "_view_name": "StyleView",
      "bar_color": null,
      "description_width": "initial"
     }
    },
    "640351b3f5264705a832660623acfd60": {
     "model_module": "@jupyter-widgets/controls",
     "model_name": "HBoxModel",
     "state": {
      "_dom_classes": [],
      "_model_module": "@jupyter-widgets/controls",
      "_model_module_version": "1.5.0",
      "_model_name": "HBoxModel",
      "_view_count": null,
      "_view_module": "@jupyter-widgets/controls",
      "_view_module_version": "1.5.0",
      "_view_name": "HBoxView",
      "box_style": "",
      "children": [
       "IPY_MODEL_373ea85767ba40ebabd3cd1d7cea9042",
       "IPY_MODEL_ea3195680f474c8598cfaeb0dcd3e3a9"
      ],
      "layout": "IPY_MODEL_c5db77d22d2d41b7979acb1fd9abba64"
     }
    },
    "6933bceff0424f4ba7e97a674d24d911": {
     "model_module": "@jupyter-widgets/base",
     "model_name": "LayoutModel",
     "state": {
      "_model_module": "@jupyter-widgets/base",
      "_model_module_version": "1.2.0",
      "_model_name": "LayoutModel",
      "_view_count": null,
      "_view_module": "@jupyter-widgets/base",
      "_view_module_version": "1.2.0",
      "_view_name": "LayoutView",
      "align_content": null,
      "align_items": null,
      "align_self": null,
      "border": null,
      "bottom": null,
      "display": null,
      "flex": null,
      "flex_flow": null,
      "grid_area": null,
      "grid_auto_columns": null,
      "grid_auto_flow": null,
      "grid_auto_rows": null,
      "grid_column": null,
      "grid_gap": null,
      "grid_row": null,
      "grid_template_areas": null,
      "grid_template_columns": null,
      "grid_template_rows": null,
      "height": null,
      "justify_content": null,
      "justify_items": null,
      "left": null,
      "margin": null,
      "max_height": null,
      "max_width": null,
      "min_height": null,
      "min_width": null,
      "object_fit": null,
      "object_position": null,
      "order": null,
      "overflow": null,
      "overflow_x": null,
      "overflow_y": null,
      "padding": null,
      "right": null,
      "top": null,
      "visibility": null,
      "width": null
     }
    },
    "6be6b77798d24dfc978087b7741c6db1": {
     "model_module": "@jupyter-widgets/controls",
     "model_name": "DescriptionStyleModel",
     "state": {
      "_model_module": "@jupyter-widgets/controls",
      "_model_module_version": "1.5.0",
      "_model_name": "DescriptionStyleModel",
      "_view_count": null,
      "_view_module": "@jupyter-widgets/base",
      "_view_module_version": "1.2.0",
      "_view_name": "StyleView",
      "description_width": ""
     }
    },
    "70930514606a48fda426cd118fb223e6": {
     "model_module": "@jupyter-widgets/base",
     "model_name": "LayoutModel",
     "state": {
      "_model_module": "@jupyter-widgets/base",
      "_model_module_version": "1.2.0",
      "_model_name": "LayoutModel",
      "_view_count": null,
      "_view_module": "@jupyter-widgets/base",
      "_view_module_version": "1.2.0",
      "_view_name": "LayoutView",
      "align_content": null,
      "align_items": null,
      "align_self": null,
      "border": null,
      "bottom": null,
      "display": null,
      "flex": null,
      "flex_flow": null,
      "grid_area": null,
      "grid_auto_columns": null,
      "grid_auto_flow": null,
      "grid_auto_rows": null,
      "grid_column": null,
      "grid_gap": null,
      "grid_row": null,
      "grid_template_areas": null,
      "grid_template_columns": null,
      "grid_template_rows": null,
      "height": null,
      "justify_content": null,
      "justify_items": null,
      "left": null,
      "margin": null,
      "max_height": null,
      "max_width": null,
      "min_height": null,
      "min_width": null,
      "object_fit": null,
      "object_position": null,
      "order": null,
      "overflow": null,
      "overflow_x": null,
      "overflow_y": null,
      "padding": null,
      "right": null,
      "top": null,
      "visibility": null,
      "width": null
     }
    },
    "71d02516922e4767ba08a573078d1ca5": {
     "model_module": "@jupyter-widgets/base",
     "model_name": "LayoutModel",
     "state": {
      "_model_module": "@jupyter-widgets/base",
      "_model_module_version": "1.2.0",
      "_model_name": "LayoutModel",
      "_view_count": null,
      "_view_module": "@jupyter-widgets/base",
      "_view_module_version": "1.2.0",
      "_view_name": "LayoutView",
      "align_content": null,
      "align_items": null,
      "align_self": null,
      "border": null,
      "bottom": null,
      "display": null,
      "flex": null,
      "flex_flow": null,
      "grid_area": null,
      "grid_auto_columns": null,
      "grid_auto_flow": null,
      "grid_auto_rows": null,
      "grid_column": null,
      "grid_gap": null,
      "grid_row": null,
      "grid_template_areas": null,
      "grid_template_columns": null,
      "grid_template_rows": null,
      "height": null,
      "justify_content": null,
      "justify_items": null,
      "left": null,
      "margin": null,
      "max_height": null,
      "max_width": null,
      "min_height": null,
      "min_width": null,
      "object_fit": null,
      "object_position": null,
      "order": null,
      "overflow": null,
      "overflow_x": null,
      "overflow_y": null,
      "padding": null,
      "right": null,
      "top": null,
      "visibility": null,
      "width": null
     }
    },
    "a7b25e5c57f04539add82add4018e59b": {
     "model_module": "@jupyter-widgets/base",
     "model_name": "LayoutModel",
     "state": {
      "_model_module": "@jupyter-widgets/base",
      "_model_module_version": "1.2.0",
      "_model_name": "LayoutModel",
      "_view_count": null,
      "_view_module": "@jupyter-widgets/base",
      "_view_module_version": "1.2.0",
      "_view_name": "LayoutView",
      "align_content": null,
      "align_items": null,
      "align_self": null,
      "border": null,
      "bottom": null,
      "display": null,
      "flex": null,
      "flex_flow": null,
      "grid_area": null,
      "grid_auto_columns": null,
      "grid_auto_flow": null,
      "grid_auto_rows": null,
      "grid_column": null,
      "grid_gap": null,
      "grid_row": null,
      "grid_template_areas": null,
      "grid_template_columns": null,
      "grid_template_rows": null,
      "height": null,
      "justify_content": null,
      "justify_items": null,
      "left": null,
      "margin": null,
      "max_height": null,
      "max_width": null,
      "min_height": null,
      "min_width": null,
      "object_fit": null,
      "object_position": null,
      "order": null,
      "overflow": null,
      "overflow_x": null,
      "overflow_y": null,
      "padding": null,
      "right": null,
      "top": null,
      "visibility": null,
      "width": null
     }
    },
    "a954e13213c7403cb3c551a1c2f27aa6": {
     "model_module": "@jupyter-widgets/output",
     "model_name": "OutputModel",
     "state": {
      "_dom_classes": [],
      "_model_module": "@jupyter-widgets/output",
      "_model_module_version": "1.0.0",
      "_model_name": "OutputModel",
      "_view_count": null,
      "_view_module": "@jupyter-widgets/output",
      "_view_module_version": "1.0.0",
      "_view_name": "OutputView",
      "layout": "IPY_MODEL_6933bceff0424f4ba7e97a674d24d911",
      "msg_id": "",
      "outputs": [
       {
        "metadata": {
         "tags": []
        },
        "output_type": "display_data",
        "text/html": "<pre style=\"white-space:pre;overflow-x:auto;line-height:normal;font-family:Menlo,'DejaVu Sans Mono',consolas,'Courier New',monospace\"><span style=\"color: #000080; text-decoration-color: #000080; font-weight: bold\">submission.csv</span> <span style=\"color: #729c1f; text-decoration-color: #729c1f\">━━━━━━━━━━━━━━━━━━</span> <span style=\"color: #800080; text-decoration-color: #800080\">100.0%</span> • <span style=\"color: #008000; text-decoration-color: #008000\">132.7/131.0 KB</span> • <span style=\"color: #800000; text-decoration-color: #800000\">515.4 kB/s</span> • <span style=\"color: #008080; text-decoration-color: #008080\">0:00:00</span>\n</pre>\n",
        "text/plain": "<rich.jupyter.JupyterRenderable at 0x7f13382e6a90>"
       }
      ]
     }
    },
    "aebae68180d84c4798eebeb09058b709": {
     "model_module": "@jupyter-widgets/base",
     "model_name": "LayoutModel",
     "state": {
      "_model_module": "@jupyter-widgets/base",
      "_model_module_version": "1.2.0",
      "_model_name": "LayoutModel",
      "_view_count": null,
      "_view_module": "@jupyter-widgets/base",
      "_view_module_version": "1.2.0",
      "_view_name": "LayoutView",
      "align_content": null,
      "align_items": null,
      "align_self": null,
      "border": null,
      "bottom": null,
      "display": null,
      "flex": null,
      "flex_flow": null,
      "grid_area": null,
      "grid_auto_columns": null,
      "grid_auto_flow": null,
      "grid_auto_rows": null,
      "grid_column": null,
      "grid_gap": null,
      "grid_row": null,
      "grid_template_areas": null,
      "grid_template_columns": null,
      "grid_template_rows": null,
      "height": null,
      "justify_content": null,
      "justify_items": null,
      "left": null,
      "margin": null,
      "max_height": null,
      "max_width": null,
      "min_height": null,
      "min_width": null,
      "object_fit": null,
      "object_position": null,
      "order": null,
      "overflow": null,
      "overflow_x": null,
      "overflow_y": null,
      "padding": null,
      "right": null,
      "top": null,
      "visibility": null,
      "width": null
     }
    },
    "b1337e0ec2e2421fb5e208ab731f7d81": {
     "model_module": "@jupyter-widgets/base",
     "model_name": "LayoutModel",
     "state": {
      "_model_module": "@jupyter-widgets/base",
      "_model_module_version": "1.2.0",
      "_model_name": "LayoutModel",
      "_view_count": null,
      "_view_module": "@jupyter-widgets/base",
      "_view_module_version": "1.2.0",
      "_view_name": "LayoutView",
      "align_content": null,
      "align_items": null,
      "align_self": null,
      "border": null,
      "bottom": null,
      "display": null,
      "flex": null,
      "flex_flow": null,
      "grid_area": null,
      "grid_auto_columns": null,
      "grid_auto_flow": null,
      "grid_auto_rows": null,
      "grid_column": null,
      "grid_gap": null,
      "grid_row": null,
      "grid_template_areas": null,
      "grid_template_columns": null,
      "grid_template_rows": null,
      "height": null,
      "justify_content": null,
      "justify_items": null,
      "left": null,
      "margin": null,
      "max_height": null,
      "max_width": null,
      "min_height": null,
      "min_width": null,
      "object_fit": null,
      "object_position": null,
      "order": null,
      "overflow": null,
      "overflow_x": null,
      "overflow_y": null,
      "padding": null,
      "right": null,
      "top": null,
      "visibility": null,
      "width": null
     }
    },
    "b4dea0b107ce412085099f0e08fa738d": {
     "model_module": "@jupyter-widgets/base",
     "model_name": "LayoutModel",
     "state": {
      "_model_module": "@jupyter-widgets/base",
      "_model_module_version": "1.2.0",
      "_model_name": "LayoutModel",
      "_view_count": null,
      "_view_module": "@jupyter-widgets/base",
      "_view_module_version": "1.2.0",
      "_view_name": "LayoutView",
      "align_content": null,
      "align_items": null,
      "align_self": null,
      "border": null,
      "bottom": null,
      "display": null,
      "flex": null,
      "flex_flow": null,
      "grid_area": null,
      "grid_auto_columns": null,
      "grid_auto_flow": null,
      "grid_auto_rows": null,
      "grid_column": null,
      "grid_gap": null,
      "grid_row": null,
      "grid_template_areas": null,
      "grid_template_columns": null,
      "grid_template_rows": null,
      "height": null,
      "justify_content": null,
      "justify_items": null,
      "left": null,
      "margin": null,
      "max_height": null,
      "max_width": null,
      "min_height": null,
      "min_width": null,
      "object_fit": null,
      "object_position": null,
      "order": null,
      "overflow": null,
      "overflow_x": null,
      "overflow_y": null,
      "padding": null,
      "right": null,
      "top": null,
      "visibility": null,
      "width": null
     }
    },
    "b7af76520e814cf3b2120ec51edd06b0": {
     "model_module": "@jupyter-widgets/controls",
     "model_name": "HBoxModel",
     "state": {
      "_dom_classes": [],
      "_model_module": "@jupyter-widgets/controls",
      "_model_module_version": "1.5.0",
      "_model_name": "HBoxModel",
      "_view_count": null,
      "_view_module": "@jupyter-widgets/controls",
      "_view_module_version": "1.5.0",
      "_view_name": "HBoxView",
      "box_style": "",
      "children": [
       "IPY_MODEL_3b8f2d6a63d7415d95c5d44cbeeb7ebf",
       "IPY_MODEL_f88557616a5c4195a5937c98a47acd84"
      ],
      "layout": "IPY_MODEL_71d02516922e4767ba08a573078d1ca5"
     }
    },
    "c5db77d22d2d41b7979acb1fd9abba64": {
     "model_module": "@jupyter-widgets/base",
     "model_name": "LayoutModel",
     "state": {
      "_model_module": "@jupyter-widgets/base",
      "_model_module_version": "1.2.0",
      "_model_name": "LayoutModel",
      "_view_count": null,
      "_view_module": "@jupyter-widgets/base",
      "_view_module_version": "1.2.0",
      "_view_name": "LayoutView",
      "align_content": null,
      "align_items": null,
      "align_self": null,
      "border": null,
      "bottom": null,
      "display": null,
      "flex": null,
      "flex_flow": null,
      "grid_area": null,
      "grid_auto_columns": null,
      "grid_auto_flow": null,
      "grid_auto_rows": null,
      "grid_column": null,
      "grid_gap": null,
      "grid_row": null,
      "grid_template_areas": null,
      "grid_template_columns": null,
      "grid_template_rows": null,
      "height": null,
      "justify_content": null,
      "justify_items": null,
      "left": null,
      "margin": null,
      "max_height": null,
      "max_width": null,
      "min_height": null,
      "min_width": null,
      "object_fit": null,
      "object_position": null,
      "order": null,
      "overflow": null,
      "overflow_x": null,
      "overflow_y": null,
      "padding": null,
      "right": null,
      "top": null,
      "visibility": null,
      "width": null
     }
    },
    "c5f3ab6833d14827816598c6815e438f": {
     "model_module": "@jupyter-widgets/controls",
     "model_name": "HTMLModel",
     "state": {
      "_dom_classes": [],
      "_model_module": "@jupyter-widgets/controls",
      "_model_module_version": "1.5.0",
      "_model_name": "HTMLModel",
      "_view_count": null,
      "_view_module": "@jupyter-widgets/controls",
      "_view_module_version": "1.5.0",
      "_view_name": "HTMLView",
      "description": "",
      "description_tooltip": null,
      "layout": "IPY_MODEL_aebae68180d84c4798eebeb09058b709",
      "placeholder": "​",
      "style": "IPY_MODEL_fedc39e02e844bfc8791e93d5294946d",
      "value": " 40.8M/40.8M [00:07&lt;00:00, 5.27MB/s]"
     }
    },
    "c86f92acf5774db4815a988561d98c97": {
     "model_module": "@jupyter-widgets/base",
     "model_name": "LayoutModel",
     "state": {
      "_model_module": "@jupyter-widgets/base",
      "_model_module_version": "1.2.0",
      "_model_name": "LayoutModel",
      "_view_count": null,
      "_view_module": "@jupyter-widgets/base",
      "_view_module_version": "1.2.0",
      "_view_name": "LayoutView",
      "align_content": null,
      "align_items": null,
      "align_self": null,
      "border": null,
      "bottom": null,
      "display": null,
      "flex": null,
      "flex_flow": null,
      "grid_area": null,
      "grid_auto_columns": null,
      "grid_auto_flow": null,
      "grid_auto_rows": null,
      "grid_column": null,
      "grid_gap": null,
      "grid_row": null,
      "grid_template_areas": null,
      "grid_template_columns": null,
      "grid_template_rows": null,
      "height": null,
      "justify_content": null,
      "justify_items": null,
      "left": null,
      "margin": null,
      "max_height": null,
      "max_width": null,
      "min_height": null,
      "min_width": null,
      "object_fit": null,
      "object_position": null,
      "order": null,
      "overflow": null,
      "overflow_x": null,
      "overflow_y": null,
      "padding": null,
      "right": null,
      "top": null,
      "visibility": null,
      "width": null
     }
    },
    "d233d1e271da40f2bb43828fcfbd7431": {
     "model_module": "@jupyter-widgets/controls",
     "model_name": "ProgressStyleModel",
     "state": {
      "_model_module": "@jupyter-widgets/controls",
      "_model_module_version": "1.5.0",
      "_model_name": "ProgressStyleModel",
      "_view_count": null,
      "_view_module": "@jupyter-widgets/base",
      "_view_module_version": "1.2.0",
      "_view_name": "StyleView",
      "bar_color": null,
      "description_width": "initial"
     }
    },
    "dabe197b5c5644278bb6a10fe79fb83c": {
     "model_module": "@jupyter-widgets/controls",
     "model_name": "HBoxModel",
     "state": {
      "_dom_classes": [],
      "_model_module": "@jupyter-widgets/controls",
      "_model_module_version": "1.5.0",
      "_model_name": "HBoxModel",
      "_view_count": null,
      "_view_module": "@jupyter-widgets/controls",
      "_view_module_version": "1.5.0",
      "_view_name": "HBoxView",
      "box_style": "",
      "children": [
       "IPY_MODEL_162c78673b124653b366c4438206c70c",
       "IPY_MODEL_c5f3ab6833d14827816598c6815e438f"
      ],
      "layout": "IPY_MODEL_b1337e0ec2e2421fb5e208ab731f7d81"
     }
    },
    "ea3195680f474c8598cfaeb0dcd3e3a9": {
     "model_module": "@jupyter-widgets/controls",
     "model_name": "HTMLModel",
     "state": {
      "_dom_classes": [],
      "_model_module": "@jupyter-widgets/controls",
      "_model_module_version": "1.5.0",
      "_model_name": "HTMLModel",
      "_view_count": null,
      "_view_module": "@jupyter-widgets/controls",
      "_view_module_version": "1.5.0",
      "_view_name": "HTMLView",
      "description": "",
      "description_tooltip": null,
      "layout": "IPY_MODEL_b4dea0b107ce412085099f0e08fa738d",
      "placeholder": "​",
      "style": "IPY_MODEL_042b9189ab574e5db6bbb17e4278b752",
      "value": " 10.1M/10.1M [00:06&lt;00:00, 1.45MB/s]"
     }
    },
    "f88557616a5c4195a5937c98a47acd84": {
     "model_module": "@jupyter-widgets/controls",
     "model_name": "HTMLModel",
     "state": {
      "_dom_classes": [],
      "_model_module": "@jupyter-widgets/controls",
      "_model_module_version": "1.5.0",
      "_model_name": "HTMLModel",
      "_view_count": null,
      "_view_module": "@jupyter-widgets/controls",
      "_view_module_version": "1.5.0",
      "_view_name": "HTMLView",
      "description": "",
      "description_tooltip": null,
      "layout": "IPY_MODEL_70930514606a48fda426cd118fb223e6",
      "placeholder": "​",
      "style": "IPY_MODEL_6be6b77798d24dfc978087b7741c6db1",
      "value": " 136k/136k [00:07&lt;00:00, 18.3kB/s]"
     }
    },
    "febff897564f4c4eb46b66a252b45b41": {
     "model_module": "@jupyter-widgets/controls",
     "model_name": "ProgressStyleModel",
     "state": {
      "_model_module": "@jupyter-widgets/controls",
      "_model_module_version": "1.5.0",
      "_model_name": "ProgressStyleModel",
      "_view_count": null,
      "_view_module": "@jupyter-widgets/base",
      "_view_module_version": "1.2.0",
      "_view_name": "StyleView",
      "bar_color": null,
      "description_width": "initial"
     }
    },
    "fedc39e02e844bfc8791e93d5294946d": {
     "model_module": "@jupyter-widgets/controls",
     "model_name": "DescriptionStyleModel",
     "state": {
      "_model_module": "@jupyter-widgets/controls",
      "_model_module_version": "1.5.0",
      "_model_name": "DescriptionStyleModel",
      "_view_count": null,
      "_view_module": "@jupyter-widgets/base",
      "_view_module_version": "1.2.0",
      "_view_name": "StyleView",
      "description_width": ""
     }
    }
   }
  }
 },
 "nbformat": 4,
 "nbformat_minor": 1
}
